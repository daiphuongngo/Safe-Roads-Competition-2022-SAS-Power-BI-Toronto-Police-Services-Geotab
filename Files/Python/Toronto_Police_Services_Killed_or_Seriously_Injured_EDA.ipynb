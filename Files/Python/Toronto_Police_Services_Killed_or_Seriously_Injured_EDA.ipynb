{
  "nbformat": 4,
  "nbformat_minor": 0,
  "metadata": {
    "colab": {
      "name": "Toronto Police Services Killed or Seriously Injured  - EDA.ipynb",
      "provenance": [],
      "collapsed_sections": []
    },
    "kernelspec": {
      "name": "python3",
      "display_name": "Python 3"
    },
    "language_info": {
      "name": "python"
    }
  },
  "cells": [
    {
      "cell_type": "markdown",
      "source": [
        "#  Toronto Police Services Killed or Seriously Injured Dataset\n"
      ],
      "metadata": {
        "id": "nVEu1JO5VB2Y"
      }
    },
    {
      "cell_type": "markdown",
      "source": [
        "## Import libraries"
      ],
      "metadata": {
        "id": "KHIg2T41VBw-"
      }
    },
    {
      "cell_type": "code",
      "execution_count": null,
      "metadata": {
        "id": "JtG5c4Ywe3uo"
      },
      "outputs": [],
      "source": [
        "import warnings\n",
        "import json\n",
        "import sys\n",
        "import csv\n",
        "import os\n",
        "\n",
        "import pandas as pd\n",
        "\n",
        "import matplotlib as mpl\n",
        "import matplotlib.pyplot as plt\n",
        "import seaborn as sns\n",
        "\n",
        "import scipy\n",
        "import numpy as np\n",
        "np.random.seed(1612)"
      ]
    },
    {
      "cell_type": "code",
      "source": [
        "from google.colab import drive\n",
        "drive.mount('/content/drive')"
      ],
      "metadata": {
        "colab": {
          "base_uri": "https://localhost:8080/"
        },
        "id": "8u6jbx4rfBX5",
        "outputId": "3b0632a3-e6ea-42d8-aacb-2ddd3fa8b0de"
      },
      "execution_count": null,
      "outputs": [
        {
          "output_type": "stream",
          "name": "stdout",
          "text": [
            "Mounted at /content/drive\n"
          ]
        }
      ]
    },
    {
      "cell_type": "code",
      "source": [
        "KSI = pd.read_csv('/content/drive/My Drive/Colab Notebooks/SAS Safe Roads - Toronto Police 2022/Toronto Police KSI.csv') "
      ],
      "metadata": {
        "id": "97cWj794fB8o"
      },
      "execution_count": null,
      "outputs": []
    },
    {
      "cell_type": "code",
      "source": [
        "KSI.head()"
      ],
      "metadata": {
        "colab": {
          "base_uri": "https://localhost:8080/",
          "height": 530
        },
        "id": "GG6eUUlzfQyX",
        "outputId": "64b63d06-d831-4888-90f2-e92198fffa6f"
      },
      "execution_count": null,
      "outputs": [
        {
          "output_type": "execute_result",
          "data": {
            "text/html": [
              "\n",
              "  <div id=\"df-2de9a62a-b0ae-42ce-97cf-315fb3498f25\">\n",
              "    <div class=\"colab-df-container\">\n",
              "      <div>\n",
              "<style scoped>\n",
              "    .dataframe tbody tr th:only-of-type {\n",
              "        vertical-align: middle;\n",
              "    }\n",
              "\n",
              "    .dataframe tbody tr th {\n",
              "        vertical-align: top;\n",
              "    }\n",
              "\n",
              "    .dataframe thead th {\n",
              "        text-align: right;\n",
              "    }\n",
              "</style>\n",
              "<table border=\"1\" class=\"dataframe\">\n",
              "  <thead>\n",
              "    <tr style=\"text-align: right;\">\n",
              "      <th></th>\n",
              "      <th>X</th>\n",
              "      <th>Y</th>\n",
              "      <th>INDEX_</th>\n",
              "      <th>ACCNUM</th>\n",
              "      <th>YEAR</th>\n",
              "      <th>DATE</th>\n",
              "      <th>TIME</th>\n",
              "      <th>HOUR</th>\n",
              "      <th>STREET1</th>\n",
              "      <th>STREET2</th>\n",
              "      <th>OFFSET</th>\n",
              "      <th>ROAD_CLASS</th>\n",
              "      <th>DISTRICT</th>\n",
              "      <th>WARDNUM</th>\n",
              "      <th>DIVISION</th>\n",
              "      <th>LATITUDE</th>\n",
              "      <th>LONGITUDE</th>\n",
              "      <th>LOCCOORD</th>\n",
              "      <th>ACCLOC</th>\n",
              "      <th>TRAFFCTL</th>\n",
              "      <th>VISIBILITY</th>\n",
              "      <th>LIGHT</th>\n",
              "      <th>RDSFCOND</th>\n",
              "      <th>ACCLASS</th>\n",
              "      <th>IMPACTYPE</th>\n",
              "      <th>INVTYPE</th>\n",
              "      <th>INVAGE</th>\n",
              "      <th>INJURY</th>\n",
              "      <th>FATAL_NO</th>\n",
              "      <th>INITDIR</th>\n",
              "      <th>VEHTYPE</th>\n",
              "      <th>MANOEUVER</th>\n",
              "      <th>DRIVACT</th>\n",
              "      <th>DRIVCOND</th>\n",
              "      <th>PEDTYPE</th>\n",
              "      <th>PEDACT</th>\n",
              "      <th>PEDCOND</th>\n",
              "      <th>CYCLISTYPE</th>\n",
              "      <th>CYCACT</th>\n",
              "      <th>CYCCOND</th>\n",
              "      <th>PEDESTRIAN</th>\n",
              "      <th>CYCLIST</th>\n",
              "      <th>AUTOMOBILE</th>\n",
              "      <th>MOTORCYCLE</th>\n",
              "      <th>TRUCK</th>\n",
              "      <th>TRSN_CITY_VEH</th>\n",
              "      <th>EMERG_VEH</th>\n",
              "      <th>PASSENGER</th>\n",
              "      <th>SPEEDING</th>\n",
              "      <th>AG_DRIV</th>\n",
              "      <th>REDLIGHT</th>\n",
              "      <th>ALCOHOL</th>\n",
              "      <th>DISABILITY</th>\n",
              "      <th>POLICE_DIVISION</th>\n",
              "      <th>HOOD_ID</th>\n",
              "      <th>NEIGHBOURHOOD</th>\n",
              "      <th>ObjectId</th>\n",
              "    </tr>\n",
              "  </thead>\n",
              "  <tbody>\n",
              "    <tr>\n",
              "      <th>0</th>\n",
              "      <td>-8.844611e+06</td>\n",
              "      <td>5.412414e+06</td>\n",
              "      <td>3387730</td>\n",
              "      <td>892658</td>\n",
              "      <td>2006</td>\n",
              "      <td>2006/03/11 05:00:00+00</td>\n",
              "      <td>852</td>\n",
              "      <td>8</td>\n",
              "      <td>BLOOR ST W</td>\n",
              "      <td>DUNDAS ST W</td>\n",
              "      <td>&lt;Null&gt;</td>\n",
              "      <td>Major Arterial</td>\n",
              "      <td>Toronto and East York</td>\n",
              "      <td>4</td>\n",
              "      <td>11</td>\n",
              "      <td>43.656345</td>\n",
              "      <td>-79.452490</td>\n",
              "      <td>Intersection</td>\n",
              "      <td>At Intersection</td>\n",
              "      <td>Traffic Signal</td>\n",
              "      <td>Clear</td>\n",
              "      <td>Daylight</td>\n",
              "      <td>Dry</td>\n",
              "      <td>Fatal</td>\n",
              "      <td>Pedestrian Collisions</td>\n",
              "      <td>Driver</td>\n",
              "      <td>unknown</td>\n",
              "      <td>None</td>\n",
              "      <td>&lt;Null&gt;</td>\n",
              "      <td>South</td>\n",
              "      <td>Automobile, Station Wagon</td>\n",
              "      <td>Turning Left</td>\n",
              "      <td>Failed to Yield Right of Way</td>\n",
              "      <td>Unknown</td>\n",
              "      <td>&lt;Null&gt;</td>\n",
              "      <td>&lt;Null&gt;</td>\n",
              "      <td>&lt;Null&gt;</td>\n",
              "      <td>&lt;Null&gt;</td>\n",
              "      <td>&lt;Null&gt;</td>\n",
              "      <td>&lt;Null&gt;</td>\n",
              "      <td>Yes</td>\n",
              "      <td>&lt;Null&gt;</td>\n",
              "      <td>Yes</td>\n",
              "      <td>&lt;Null&gt;</td>\n",
              "      <td>&lt;Null&gt;</td>\n",
              "      <td>&lt;Null&gt;</td>\n",
              "      <td>&lt;Null&gt;</td>\n",
              "      <td>&lt;Null&gt;</td>\n",
              "      <td>&lt;Null&gt;</td>\n",
              "      <td>Yes</td>\n",
              "      <td>&lt;Null&gt;</td>\n",
              "      <td>&lt;Null&gt;</td>\n",
              "      <td>&lt;Null&gt;</td>\n",
              "      <td>D11</td>\n",
              "      <td>88</td>\n",
              "      <td>High Park North (88)</td>\n",
              "      <td>1</td>\n",
              "    </tr>\n",
              "    <tr>\n",
              "      <th>1</th>\n",
              "      <td>-8.844611e+06</td>\n",
              "      <td>5.412414e+06</td>\n",
              "      <td>3387731</td>\n",
              "      <td>892658</td>\n",
              "      <td>2006</td>\n",
              "      <td>2006/03/11 05:00:00+00</td>\n",
              "      <td>852</td>\n",
              "      <td>8</td>\n",
              "      <td>BLOOR ST W</td>\n",
              "      <td>DUNDAS ST W</td>\n",
              "      <td>&lt;Null&gt;</td>\n",
              "      <td>Major Arterial</td>\n",
              "      <td>Toronto and East York</td>\n",
              "      <td>4</td>\n",
              "      <td>11</td>\n",
              "      <td>43.656345</td>\n",
              "      <td>-79.452490</td>\n",
              "      <td>Intersection</td>\n",
              "      <td>At Intersection</td>\n",
              "      <td>Traffic Signal</td>\n",
              "      <td>Clear</td>\n",
              "      <td>Daylight</td>\n",
              "      <td>Dry</td>\n",
              "      <td>Fatal</td>\n",
              "      <td>Pedestrian Collisions</td>\n",
              "      <td>Pedestrian</td>\n",
              "      <td>65 to 69</td>\n",
              "      <td>Fatal</td>\n",
              "      <td>&lt;Null&gt;</td>\n",
              "      <td>North</td>\n",
              "      <td>Other</td>\n",
              "      <td>&lt;Null&gt;</td>\n",
              "      <td>&lt;Null&gt;</td>\n",
              "      <td>&lt;Null&gt;</td>\n",
              "      <td>Vehicle turns left while ped crosses with ROW ...</td>\n",
              "      <td>Crossing with right of way</td>\n",
              "      <td>Unknown</td>\n",
              "      <td>&lt;Null&gt;</td>\n",
              "      <td>&lt;Null&gt;</td>\n",
              "      <td>&lt;Null&gt;</td>\n",
              "      <td>Yes</td>\n",
              "      <td>&lt;Null&gt;</td>\n",
              "      <td>Yes</td>\n",
              "      <td>&lt;Null&gt;</td>\n",
              "      <td>&lt;Null&gt;</td>\n",
              "      <td>&lt;Null&gt;</td>\n",
              "      <td>&lt;Null&gt;</td>\n",
              "      <td>&lt;Null&gt;</td>\n",
              "      <td>&lt;Null&gt;</td>\n",
              "      <td>Yes</td>\n",
              "      <td>&lt;Null&gt;</td>\n",
              "      <td>&lt;Null&gt;</td>\n",
              "      <td>&lt;Null&gt;</td>\n",
              "      <td>D11</td>\n",
              "      <td>88</td>\n",
              "      <td>High Park North (88)</td>\n",
              "      <td>2</td>\n",
              "    </tr>\n",
              "    <tr>\n",
              "      <th>2</th>\n",
              "      <td>-8.816480e+06</td>\n",
              "      <td>5.434843e+06</td>\n",
              "      <td>3388101</td>\n",
              "      <td>892810</td>\n",
              "      <td>2006</td>\n",
              "      <td>2006/03/11 05:00:00+00</td>\n",
              "      <td>915</td>\n",
              "      <td>9</td>\n",
              "      <td>MORNINGSIDE AVE</td>\n",
              "      <td>SHEPPARD AVE E</td>\n",
              "      <td>&lt;Null&gt;</td>\n",
              "      <td>Major Arterial</td>\n",
              "      <td>Scarborough</td>\n",
              "      <td>25</td>\n",
              "      <td>42</td>\n",
              "      <td>43.801943</td>\n",
              "      <td>-79.199786</td>\n",
              "      <td>Intersection</td>\n",
              "      <td>At Intersection</td>\n",
              "      <td>Traffic Signal</td>\n",
              "      <td>Clear</td>\n",
              "      <td>Daylight</td>\n",
              "      <td>Dry</td>\n",
              "      <td>Fatal</td>\n",
              "      <td>Turning Movement</td>\n",
              "      <td>Motorcycle Driver</td>\n",
              "      <td>45 to 49</td>\n",
              "      <td>Fatal</td>\n",
              "      <td>&lt;Null&gt;</td>\n",
              "      <td>East</td>\n",
              "      <td>Motorcycle</td>\n",
              "      <td>Turning Right</td>\n",
              "      <td>Disobeyed Traffic Control</td>\n",
              "      <td>Unknown</td>\n",
              "      <td>&lt;Null&gt;</td>\n",
              "      <td>&lt;Null&gt;</td>\n",
              "      <td>&lt;Null&gt;</td>\n",
              "      <td>&lt;Null&gt;</td>\n",
              "      <td>&lt;Null&gt;</td>\n",
              "      <td>&lt;Null&gt;</td>\n",
              "      <td>&lt;Null&gt;</td>\n",
              "      <td>&lt;Null&gt;</td>\n",
              "      <td>Yes</td>\n",
              "      <td>Yes</td>\n",
              "      <td>&lt;Null&gt;</td>\n",
              "      <td>&lt;Null&gt;</td>\n",
              "      <td>&lt;Null&gt;</td>\n",
              "      <td>&lt;Null&gt;</td>\n",
              "      <td>&lt;Null&gt;</td>\n",
              "      <td>Yes</td>\n",
              "      <td>Yes</td>\n",
              "      <td>&lt;Null&gt;</td>\n",
              "      <td>&lt;Null&gt;</td>\n",
              "      <td>D42</td>\n",
              "      <td>131</td>\n",
              "      <td>Rouge (131)</td>\n",
              "      <td>3</td>\n",
              "    </tr>\n",
              "    <tr>\n",
              "      <th>3</th>\n",
              "      <td>-8.816480e+06</td>\n",
              "      <td>5.434843e+06</td>\n",
              "      <td>3388102</td>\n",
              "      <td>892810</td>\n",
              "      <td>2006</td>\n",
              "      <td>2006/03/11 05:00:00+00</td>\n",
              "      <td>915</td>\n",
              "      <td>9</td>\n",
              "      <td>MORNINGSIDE AVE</td>\n",
              "      <td>SHEPPARD AVE E</td>\n",
              "      <td>&lt;Null&gt;</td>\n",
              "      <td>Major Arterial</td>\n",
              "      <td>Scarborough</td>\n",
              "      <td>25</td>\n",
              "      <td>42</td>\n",
              "      <td>43.801943</td>\n",
              "      <td>-79.199786</td>\n",
              "      <td>Intersection</td>\n",
              "      <td>At Intersection</td>\n",
              "      <td>Traffic Signal</td>\n",
              "      <td>Clear</td>\n",
              "      <td>Daylight</td>\n",
              "      <td>Dry</td>\n",
              "      <td>Fatal</td>\n",
              "      <td>Turning Movement</td>\n",
              "      <td>Driver</td>\n",
              "      <td>unknown</td>\n",
              "      <td>None</td>\n",
              "      <td>&lt;Null&gt;</td>\n",
              "      <td>South</td>\n",
              "      <td>Automobile, Station Wagon</td>\n",
              "      <td>Going Ahead</td>\n",
              "      <td>Driving Properly</td>\n",
              "      <td>Unknown</td>\n",
              "      <td>&lt;Null&gt;</td>\n",
              "      <td>&lt;Null&gt;</td>\n",
              "      <td>&lt;Null&gt;</td>\n",
              "      <td>&lt;Null&gt;</td>\n",
              "      <td>&lt;Null&gt;</td>\n",
              "      <td>&lt;Null&gt;</td>\n",
              "      <td>&lt;Null&gt;</td>\n",
              "      <td>&lt;Null&gt;</td>\n",
              "      <td>Yes</td>\n",
              "      <td>Yes</td>\n",
              "      <td>&lt;Null&gt;</td>\n",
              "      <td>&lt;Null&gt;</td>\n",
              "      <td>&lt;Null&gt;</td>\n",
              "      <td>&lt;Null&gt;</td>\n",
              "      <td>&lt;Null&gt;</td>\n",
              "      <td>Yes</td>\n",
              "      <td>Yes</td>\n",
              "      <td>&lt;Null&gt;</td>\n",
              "      <td>&lt;Null&gt;</td>\n",
              "      <td>D42</td>\n",
              "      <td>131</td>\n",
              "      <td>Rouge (131)</td>\n",
              "      <td>4</td>\n",
              "    </tr>\n",
              "    <tr>\n",
              "      <th>4</th>\n",
              "      <td>-8.822759e+06</td>\n",
              "      <td>5.424516e+06</td>\n",
              "      <td>3387793</td>\n",
              "      <td>892682</td>\n",
              "      <td>2006</td>\n",
              "      <td>2006/03/12 05:00:00+00</td>\n",
              "      <td>240</td>\n",
              "      <td>2</td>\n",
              "      <td>EGLINTON AVE E</td>\n",
              "      <td>COMMONWEALTH AVE</td>\n",
              "      <td>&lt;Null&gt;</td>\n",
              "      <td>Major Arterial</td>\n",
              "      <td>Scarborough</td>\n",
              "      <td>21,20</td>\n",
              "      <td>41</td>\n",
              "      <td>43.734945</td>\n",
              "      <td>-79.256190</td>\n",
              "      <td>Mid-Block</td>\n",
              "      <td>&lt;Null&gt;</td>\n",
              "      <td>No Control</td>\n",
              "      <td>Clear</td>\n",
              "      <td>Dark</td>\n",
              "      <td>Dry</td>\n",
              "      <td>Fatal</td>\n",
              "      <td>Pedestrian Collisions</td>\n",
              "      <td>Driver</td>\n",
              "      <td>25 to 29</td>\n",
              "      <td>None</td>\n",
              "      <td>&lt;Null&gt;</td>\n",
              "      <td>West</td>\n",
              "      <td>Automobile, Station Wagon</td>\n",
              "      <td>Going Ahead</td>\n",
              "      <td>Other</td>\n",
              "      <td>Ability Impaired, Alcohol</td>\n",
              "      <td>&lt;Null&gt;</td>\n",
              "      <td>&lt;Null&gt;</td>\n",
              "      <td>&lt;Null&gt;</td>\n",
              "      <td>&lt;Null&gt;</td>\n",
              "      <td>&lt;Null&gt;</td>\n",
              "      <td>&lt;Null&gt;</td>\n",
              "      <td>Yes</td>\n",
              "      <td>&lt;Null&gt;</td>\n",
              "      <td>Yes</td>\n",
              "      <td>&lt;Null&gt;</td>\n",
              "      <td>&lt;Null&gt;</td>\n",
              "      <td>&lt;Null&gt;</td>\n",
              "      <td>&lt;Null&gt;</td>\n",
              "      <td>&lt;Null&gt;</td>\n",
              "      <td>&lt;Null&gt;</td>\n",
              "      <td>&lt;Null&gt;</td>\n",
              "      <td>&lt;Null&gt;</td>\n",
              "      <td>Yes</td>\n",
              "      <td>&lt;Null&gt;</td>\n",
              "      <td>D41</td>\n",
              "      <td>138</td>\n",
              "      <td>Eglinton East (138)</td>\n",
              "      <td>5</td>\n",
              "    </tr>\n",
              "  </tbody>\n",
              "</table>\n",
              "</div>\n",
              "      <button class=\"colab-df-convert\" onclick=\"convertToInteractive('df-2de9a62a-b0ae-42ce-97cf-315fb3498f25')\"\n",
              "              title=\"Convert this dataframe to an interactive table.\"\n",
              "              style=\"display:none;\">\n",
              "        \n",
              "  <svg xmlns=\"http://www.w3.org/2000/svg\" height=\"24px\"viewBox=\"0 0 24 24\"\n",
              "       width=\"24px\">\n",
              "    <path d=\"M0 0h24v24H0V0z\" fill=\"none\"/>\n",
              "    <path d=\"M18.56 5.44l.94 2.06.94-2.06 2.06-.94-2.06-.94-.94-2.06-.94 2.06-2.06.94zm-11 1L8.5 8.5l.94-2.06 2.06-.94-2.06-.94L8.5 2.5l-.94 2.06-2.06.94zm10 10l.94 2.06.94-2.06 2.06-.94-2.06-.94-.94-2.06-.94 2.06-2.06.94z\"/><path d=\"M17.41 7.96l-1.37-1.37c-.4-.4-.92-.59-1.43-.59-.52 0-1.04.2-1.43.59L10.3 9.45l-7.72 7.72c-.78.78-.78 2.05 0 2.83L4 21.41c.39.39.9.59 1.41.59.51 0 1.02-.2 1.41-.59l7.78-7.78 2.81-2.81c.8-.78.8-2.07 0-2.86zM5.41 20L4 18.59l7.72-7.72 1.47 1.35L5.41 20z\"/>\n",
              "  </svg>\n",
              "      </button>\n",
              "      \n",
              "  <style>\n",
              "    .colab-df-container {\n",
              "      display:flex;\n",
              "      flex-wrap:wrap;\n",
              "      gap: 12px;\n",
              "    }\n",
              "\n",
              "    .colab-df-convert {\n",
              "      background-color: #E8F0FE;\n",
              "      border: none;\n",
              "      border-radius: 50%;\n",
              "      cursor: pointer;\n",
              "      display: none;\n",
              "      fill: #1967D2;\n",
              "      height: 32px;\n",
              "      padding: 0 0 0 0;\n",
              "      width: 32px;\n",
              "    }\n",
              "\n",
              "    .colab-df-convert:hover {\n",
              "      background-color: #E2EBFA;\n",
              "      box-shadow: 0px 1px 2px rgba(60, 64, 67, 0.3), 0px 1px 3px 1px rgba(60, 64, 67, 0.15);\n",
              "      fill: #174EA6;\n",
              "    }\n",
              "\n",
              "    [theme=dark] .colab-df-convert {\n",
              "      background-color: #3B4455;\n",
              "      fill: #D2E3FC;\n",
              "    }\n",
              "\n",
              "    [theme=dark] .colab-df-convert:hover {\n",
              "      background-color: #434B5C;\n",
              "      box-shadow: 0px 1px 3px 1px rgba(0, 0, 0, 0.15);\n",
              "      filter: drop-shadow(0px 1px 2px rgba(0, 0, 0, 0.3));\n",
              "      fill: #FFFFFF;\n",
              "    }\n",
              "  </style>\n",
              "\n",
              "      <script>\n",
              "        const buttonEl =\n",
              "          document.querySelector('#df-2de9a62a-b0ae-42ce-97cf-315fb3498f25 button.colab-df-convert');\n",
              "        buttonEl.style.display =\n",
              "          google.colab.kernel.accessAllowed ? 'block' : 'none';\n",
              "\n",
              "        async function convertToInteractive(key) {\n",
              "          const element = document.querySelector('#df-2de9a62a-b0ae-42ce-97cf-315fb3498f25');\n",
              "          const dataTable =\n",
              "            await google.colab.kernel.invokeFunction('convertToInteractive',\n",
              "                                                     [key], {});\n",
              "          if (!dataTable) return;\n",
              "\n",
              "          const docLinkHtml = 'Like what you see? Visit the ' +\n",
              "            '<a target=\"_blank\" href=https://colab.research.google.com/notebooks/data_table.ipynb>data table notebook</a>'\n",
              "            + ' to learn more about interactive tables.';\n",
              "          element.innerHTML = '';\n",
              "          dataTable['output_type'] = 'display_data';\n",
              "          await google.colab.output.renderOutput(dataTable, element);\n",
              "          const docLink = document.createElement('div');\n",
              "          docLink.innerHTML = docLinkHtml;\n",
              "          element.appendChild(docLink);\n",
              "        }\n",
              "      </script>\n",
              "    </div>\n",
              "  </div>\n",
              "  "
            ],
            "text/plain": [
              "              X             Y   INDEX_  ...  HOOD_ID         NEIGHBOURHOOD ObjectId\n",
              "0 -8.844611e+06  5.412414e+06  3387730  ...       88  High Park North (88)        1\n",
              "1 -8.844611e+06  5.412414e+06  3387731  ...       88  High Park North (88)        2\n",
              "2 -8.816480e+06  5.434843e+06  3388101  ...      131           Rouge (131)        3\n",
              "3 -8.816480e+06  5.434843e+06  3388102  ...      131           Rouge (131)        4\n",
              "4 -8.822759e+06  5.424516e+06  3387793  ...      138   Eglinton East (138)        5\n",
              "\n",
              "[5 rows x 57 columns]"
            ]
          },
          "metadata": {},
          "execution_count": 4
        }
      ]
    },
    {
      "cell_type": "markdown",
      "source": [
        "### Unique and value counts"
      ],
      "metadata": {
        "id": "1F2cNR0-U-oU"
      }
    },
    {
      "cell_type": "code",
      "source": [
        "KSI.value_counts()"
      ],
      "metadata": {
        "colab": {
          "base_uri": "https://localhost:8080/"
        },
        "id": "vj_lrNxhN6af",
        "outputId": "aa4139b6-fe46-406f-e2a4-2715362e99d7"
      },
      "execution_count": null,
      "outputs": [
        {
          "output_type": "execute_result",
          "data": {
            "text/plain": [
              "X              Y             INDEX_    ACCNUM      YEAR  DATE                    TIME  HOUR  STREET1               STREET2                     OFFSET         ROAD_CLASS      DISTRICT               WARDNUM  DIVISION  LATITUDE   LONGITUDE   LOCCOORD      ACCLOC            TRAFFCTL        VISIBILITY  LIGHT             RDSFCOND  ACCLASS           IMPACTYPE              INVTYPE            INVAGE    INJURY   FATAL_NO  INITDIR  VEHTYPE                    MANOEUVER            DRIVACT           DRIVCOND  PEDTYPE                                                  PEDACT                      PEDCOND            CYCLISTYPE  CYCACT  CYCCOND  PEDESTRIAN  CYCLIST  AUTOMOBILE  MOTORCYCLE  TRUCK   TRSN_CITY_VEH  EMERG_VEH  PASSENGER  SPEEDING  AG_DRIV  REDLIGHT  ALCOHOL  DISABILITY  POLICE_DIVISION  HOOD_ID  NEIGHBOURHOOD               ObjectId\n",
              "-8.865305e+06  5.426688e+06  5407885   1059416     2008  2008/09/03 04:00:00+00  1900  19    ALBION RD             INDIAN LINE Aven W          <Null>         Major Arterial  Etobicoke York         1        23        43.749045  -79.638390  Mid-Block     <Null>            No Control      Clear       Daylight          Dry       Non-Fatal Injury  Rear End               Vehicle Owner      unknown   <Null>   <Null>    <Null>   Other                      <Null>               <Null>            <Null>    <Null>                                                   <Null>                      <Null>             <Null>      <Null>  <Null>   <Null>      <Null>   Yes         <Null>      <Null>  <Null>         <Null>     Yes        <Null>    Yes      <Null>    <Null>   <Null>      D23              1        West Humber-Clairville (1)  3432        1\n",
              "-8.833234e+06  5.418093e+06  6723136   1276036     2011  2011/12/10 05:00:00+00  1533  15    O CONNOR DR           PAPE AVE                    <Null>         Major Arterial  Toronto and East York  14       54        43.693245  -79.350290  Intersection  At Intersection   Traffic Signal  Clear       Daylight          Dry       Non-Fatal Injury  Pedestrian Collisions  Pedestrian         30 to 34  Minimal  <Null>    East     Other                      <Null>               <Null>            <Null>    Vehicle turns left while ped crosses with ROW at inter.  Crossing with right of way  Normal             <Null>      <Null>  <Null>   Yes         <Null>   Yes         <Null>      <Null>  <Null>         <Null>     <Null>     <Null>    Yes      <Null>    <Null>   <Null>      D54              58       Old East York (58)          7857        1\n",
              "               5.427613e+06  5309566   1015121     2008  2008/01/04 05:00:00+00  1540  15    YORK MILLS RD         UPJOHN RD                   <Null>         Major Arterial  North York             16       33        43.755045  -79.350290  Mid-Block     <Null>            No Control      Clear       Daylight          Dry       Non-Fatal Injury  Approaching            Driver             55 to 59  Minor    <Null>    West     Automobile, Station Wagon  Going Ahead          Lost control      Fatigue   <Null>                                                   <Null>                      <Null>             <Null>      <Null>  <Null>   <Null>      <Null>   Yes         <Null>      <Null>  <Null>         <Null>     <Null>     <Null>    <Null>   <Null>    <Null>   <Null>      D33              42       Banbury-Don Mills (42)      2184        1\n",
              "                             5309567   1015121     2008  2008/01/04 05:00:00+00  1540  15    YORK MILLS RD         UPJOHN RD                   <Null>         Major Arterial  North York             16       33        43.755045  -79.350290  Mid-Block     <Null>            No Control      Clear       Daylight          Dry       Non-Fatal Injury  Approaching            Driver             15 to 19  Major    <Null>    East     Automobile, Station Wagon  Going Ahead          Driving Properly  Normal    <Null>                                                   <Null>                      <Null>             <Null>      <Null>  <Null>   <Null>      <Null>   Yes         <Null>      <Null>  <Null>         <Null>     <Null>     <Null>    <Null>   <Null>    <Null>   <Null>      D33              42       Banbury-Don Mills (42)      2185        1\n",
              "-8.833230e+06  5.418082e+06  80891695  7002038270  2017  2017/11/10 05:00:00+00  1850  18    O CONNOR DR           PAPE AVE                    <Null>         Major Arterial  Toronto and East York  14       54        43.693171  -79.350253  Intersection  At Intersection   Traffic Signal  Clear       Dark, artificial  Dry       Non-Fatal Injury  Pedestrian Collisions  Pedestrian         50 to 54  Major    <Null>    West     <Null>                     <Null>               <Null>            <Null>    Vehicle turns left while ped crosses with ROW at inter.  Crossing with right of way  Normal             <Null>      <Null>  <Null>   Yes         <Null>   Yes         <Null>      <Null>  <Null>         <Null>     <Null>     <Null>    Yes      <Null>    <Null>   <Null>      D54              58       Old East York (58)          14155       1\n",
              "                                                                                                                                                                                                                                                                                                                                                                                                                                                                                                                                                                                                                                                                                                                                                                                                                                                                       ..\n",
              "-8.843119e+06  5.409045e+06  7848921   1369177     2013  2013/08/03 04:00:00+00  2048  20    LAKE SHORE BLVD W     DOWLING S LAKESHORE W RAMP  <Null>         Major Arterial  Toronto and East York  4        14        43.634444  -79.439090  Mid-Block     <Null>            No Control      Clear       Dusk              Dry       Fatal             Other                  Truck Driver       50 to 54  None     <Null>    West     Truck-Tractor              Going Ahead          Driving Properly  Unknown   <Null>                                                   <Null>                      <Null>             <Null>      <Null>  <Null>   <Null>      <Null>   <Null>      <Null>      Yes     <Null>         <Null>     Yes        <Null>    <Null>   <Null>    <Null>   <Null>      D14              85       South Parkdale (85)         9067        1\n",
              "                             7848922   1369177     2013  2013/08/03 04:00:00+00  2048  20    LAKE SHORE BLVD W     DOWLING S LAKESHORE W RAMP  <Null>         Major Arterial  Toronto and East York  4        14        43.634444  -79.439090  Mid-Block     <Null>            No Control      Clear       Dusk              Dry       Fatal             Other                  Other              unknown   None     <Null>    <Null>   <Null>                     <Null>               <Null>            <Null>    <Null>                                                   <Null>                      <Null>             <Null>      <Null>  <Null>   <Null>      <Null>   <Null>      <Null>      Yes     <Null>         <Null>     Yes        <Null>    <Null>   <Null>    <Null>   <Null>      D14              85       South Parkdale (85)         9068        1\n",
              "                             7848923   1369177     2013  2013/08/03 04:00:00+00  2048  20    LAKE SHORE BLVD W     DOWLING S LAKESHORE W RAMP  <Null>         Major Arterial  Toronto and East York  4        14        43.634444  -79.439090  Mid-Block     <Null>            No Control      Clear       Dusk              Dry       Fatal             Other                  Passenger          15 to 19  Fatal    28        <Null>   <Null>                     <Null>               <Null>            <Null>    <Null>                                                   <Null>                      <Null>             <Null>      <Null>  <Null>   <Null>      <Null>   <Null>      <Null>      Yes     <Null>         <Null>     Yes        <Null>    <Null>   <Null>    <Null>   <Null>      D14              85       South Parkdale (85)         9069        1\n",
              "               5.420018e+06  5253844   1110977     2009  2009/06/24 04:00:00+00  2144  21    WILLIAM R ALLEN RD S  RIDELLE AVE                 <Null>         <Null>          North York             8        13        43.705745  -79.439090  Mid-Block     <Null>            No Control      Clear       Dark              Dry       Non-Fatal Injury  Rear End               Motorcycle Driver  35 to 39  Major    <Null>    South    Motorcycle                 Slowing or Stopping  Driving Properly  Normal    <Null>                                                   <Null>                      <Null>             <Null>      <Null>  <Null>   <Null>      <Null>   Yes         Yes         <Null>  <Null>         <Null>     <Null>     <Null>    Yes      <Null>    <Null>   <Null>      D13              31       Yorkdale-Glen Park (31)     4727        1\n",
              "-8.808254e+06  5.433050e+06  80497763  6000168422  2016  2016/01/28 05:00:00+00  2130  21    48MILLDOCK            <Null>                      172 m East of  Local           Scarborough            25       43        43.790312  -79.125896  Mid-Block     Non Intersection  No Control      Snow        Dark, artificial  Wet       Non-Fatal Injury  Pedestrian Collisions  Pedestrian         55 to 59  Major    <Null>    Unknown  <Null>                     <Null>               <Null>            <Null>    Other / Undefined                                        Other                       Had Been Drinking  <Null>      <Null>  <Null>   Yes         <Null>   <Null>      <Null>      <Null>  <Null>         <Null>     <Null>     <Null>    <Null>   <Null>    <Null>   <Null>      D43              131      Rouge (131)                 12834       1\n",
              "Length: 16860, dtype: int64"
            ]
          },
          "metadata": {},
          "execution_count": 7
        }
      ]
    },
    {
      "cell_type": "code",
      "source": [
        "KSI['ACCNUM'].unique()"
      ],
      "metadata": {
        "id": "y6V6FUUQiQsQ",
        "colab": {
          "base_uri": "https://localhost:8080/"
        },
        "outputId": "8ab361ae-f904-4be0-abde-64a7f5b53cab"
      },
      "execution_count": null,
      "outputs": [
        {
          "output_type": "execute_result",
          "data": {
            "text/plain": [
              "array([ 892658,  892810,  892682, ..., 1630486, 1636966, 1650701])"
            ]
          },
          "metadata": {},
          "execution_count": 6
        }
      ]
    },
    {
      "cell_type": "code",
      "source": [
        "KSI['ACCNUM'].value_counts()"
      ],
      "metadata": {
        "colab": {
          "base_uri": "https://localhost:8080/"
        },
        "id": "C16siC-GOD9u",
        "outputId": "dfd8dc8c-7653-489c-8fa2-adf41817f480"
      },
      "execution_count": null,
      "outputs": [
        {
          "output_type": "execute_result",
          "data": {
            "text/plain": [
              "1311498       19\n",
              "1252228       18\n",
              "4002717713    18\n",
              "1038340       16\n",
              "987443        14\n",
              "              ..\n",
              "1165411        1\n",
              "8001736723     1\n",
              "1322569        1\n",
              "9001128278     1\n",
              "1209188        1\n",
              "Name: ACCNUM, Length: 6002, dtype: int64"
            ]
          },
          "metadata": {},
          "execution_count": 8
        }
      ]
    },
    {
      "cell_type": "code",
      "source": [
        "KSI['YEAR'].unique()"
      ],
      "metadata": {
        "colab": {
          "base_uri": "https://localhost:8080/"
        },
        "id": "gSWG9f6cN26R",
        "outputId": "cc147d37-362a-4271-d755-19fd75af599e"
      },
      "execution_count": null,
      "outputs": [
        {
          "output_type": "execute_result",
          "data": {
            "text/plain": [
              "array([2006, 2007, 2008, 2009, 2010, 2011, 2012, 2013, 2014, 2015, 2016,\n",
              "       2017, 2018, 2019, 2020])"
            ]
          },
          "metadata": {},
          "execution_count": 10
        }
      ]
    },
    {
      "cell_type": "code",
      "source": [
        "KSI['YEAR'].value_counts()"
      ],
      "metadata": {
        "colab": {
          "base_uri": "https://localhost:8080/"
        },
        "id": "BrHickgxOH_4",
        "outputId": "298db475-e17a-4e62-c0f9-88d50c9c9a01"
      },
      "execution_count": null,
      "outputs": [
        {
          "output_type": "execute_result",
          "data": {
            "text/plain": [
              "2006    1483\n",
              "2007    1474\n",
              "2012    1348\n",
              "2009    1242\n",
              "2008    1239\n",
              "2013    1232\n",
              "2010    1190\n",
              "2011    1179\n",
              "2018    1074\n",
              "2016    1006\n",
              "2017     980\n",
              "2019     935\n",
              "2015     929\n",
              "2014     916\n",
              "2020     633\n",
              "Name: YEAR, dtype: int64"
            ]
          },
          "metadata": {},
          "execution_count": 11
        }
      ]
    },
    {
      "cell_type": "code",
      "source": [
        "KSI['STREET1'].unique()"
      ],
      "metadata": {
        "colab": {
          "base_uri": "https://localhost:8080/"
        },
        "id": "6qesF8PPN4py",
        "outputId": "930995d2-1a93-4156-e325-16b222fc961d"
      },
      "execution_count": null,
      "outputs": [
        {
          "output_type": "execute_result",
          "data": {
            "text/plain": [
              "array(['BLOOR ST W', 'MORNINGSIDE AVE', 'EGLINTON AVE E', ...,\n",
              "       'ST CLAIR AV E', 'HOWARD ST', 'GARDINER XWY E'], dtype=object)"
            ]
          },
          "metadata": {},
          "execution_count": 12
        }
      ]
    },
    {
      "cell_type": "code",
      "source": [
        "KSI['STREET1'].value_counts()"
      ],
      "metadata": {
        "colab": {
          "base_uri": "https://localhost:8080/"
        },
        "id": "E2o9XOkzN4sw",
        "outputId": "44cdf5c3-2192-4496-ff95-46fd79ae9297"
      },
      "execution_count": null,
      "outputs": [
        {
          "output_type": "execute_result",
          "data": {
            "text/plain": [
              "YONGE ST                  350\n",
              "BATHURST ST               309\n",
              "EGLINTON AVE E            271\n",
              "DUNDAS ST W               268\n",
              "LAWRENCE AVE E            264\n",
              "                         ... \n",
              "7 QUEEN ELIZABETH BLVD      1\n",
              "EDENBRIDGE Dr               1\n",
              "3230 BAYVIEW AVE            1\n",
              "ROSE VALLEY CRES            1\n",
              "DANFORTH Rd                 1\n",
              "Name: STREET1, Length: 1714, dtype: int64"
            ]
          },
          "metadata": {},
          "execution_count": 13
        }
      ]
    },
    {
      "cell_type": "code",
      "source": [
        "KSI['STREET2'].unique()"
      ],
      "metadata": {
        "colab": {
          "base_uri": "https://localhost:8080/"
        },
        "id": "0VuzNS0wN4wn",
        "outputId": "d2467c3c-e04e-4384-8815-9eb0c9b475d0"
      },
      "execution_count": null,
      "outputs": [
        {
          "output_type": "execute_result",
          "data": {
            "text/plain": [
              "array(['DUNDAS ST W', 'SHEPPARD AVE E', 'COMMONWEALTH AVE', ...,\n",
              "       'LAKE SHORE BLVD E OFF RAMP', 'FLORENCE AV', 'BARKDENE HILLS'],\n",
              "      dtype=object)"
            ]
          },
          "metadata": {},
          "execution_count": 14
        }
      ]
    },
    {
      "cell_type": "code",
      "source": [
        "KSI['STREET2'].value_counts()"
      ],
      "metadata": {
        "colab": {
          "base_uri": "https://localhost:8080/"
        },
        "id": "fHErJQvRN5CB",
        "outputId": "2bfbcecf-3303-4ee6-a01e-1bf9061e8397"
      },
      "execution_count": null,
      "outputs": [
        {
          "output_type": "execute_result",
          "data": {
            "text/plain": [
              "<Null>            1510\n",
              "LAWRENCE AVE E     138\n",
              "BATHURST ST        129\n",
              "YONGE ST           114\n",
              "KIPLING AVE        112\n",
              "                  ... \n",
              "EDGEHILL Rd          1\n",
              "SHAND AVE            1\n",
              "CRESCENT RD          1\n",
              "QUEENS PARK          1\n",
              "BOUCHETTE ST         1\n",
              "Name: STREET2, Length: 2568, dtype: int64"
            ]
          },
          "metadata": {},
          "execution_count": 15
        }
      ]
    },
    {
      "cell_type": "code",
      "source": [
        "KSI['OFFSET'].unique()"
      ],
      "metadata": {
        "colab": {
          "base_uri": "https://localhost:8080/"
        },
        "id": "NenHU_OWQmlt",
        "outputId": "e8991d39-0bad-4203-8f9c-43513880eaec"
      },
      "execution_count": null,
      "outputs": [
        {
          "output_type": "execute_result",
          "data": {
            "text/plain": [
              "array(['<Null>', '60 NORTH OF', '6 m West of', '1 m West of',\n",
              "       '80 m West of', '100 m East of', '7 m West of', '51 m South of',\n",
              "       '43 m West of', '5 m North of', '8 m North of', '48 m East of',\n",
              "       '97 m South of', '30 m South of', '4 m North of', '234 m South of',\n",
              "       '450 m West of', '314 m  of', '192 m East of', '2 m North of',\n",
              "       '10 m East of', '25 m West of', '18 m East of', '41 m South of',\n",
              "       '50 m East of', '39 m East of', '10 m South of', '76 m West of',\n",
              "       '50 m West of', '1 m North of', '100 m South of', '500 m East of',\n",
              "       '58 m North of', '500 m North of', '12 m West of', '60 m East of',\n",
              "       '30 m North of', '44 m North of', '132 m West of', '17 m West of',\n",
              "       '280 m East of', '25 m East of', '10 m West of', '40 m West of',\n",
              "       '26 m South of', '73 m West of', '35 m North of', '167 m East of',\n",
              "       '12 m East of', '15 m West of', '18 m South of', '40 m North of',\n",
              "       '9 m East of', '18 m North of', '9 m West of', '37 m West of',\n",
              "       '4 m South of', '57 m East of', '545 m North of', '5 m East of',\n",
              "       '185 m South of', '98 m West of', '3 m West of', '50 m South of',\n",
              "       '6 m South of', '12 m South of', '31 m North of', '20 m East of',\n",
              "       '24 m South of', '125 m East of', '3 m East of', '200 m North of',\n",
              "       '65 m East of', '27 m East of', '64 m North of', '28 m East of',\n",
              "       '85 m West of', '55 m West of', '200 m South of', '30 m East of',\n",
              "       '1 m East of', '20 m West of', '40 m South of', '53 m South of',\n",
              "       '24 m West of', '5 m West of', '2 m West of', '165 m South of',\n",
              "       '24 m  of', '23 m East of', '25 m South of', '9 m South of',\n",
              "       '3 m South of', '42 m South of', '33 m East of', '358 m North of',\n",
              "       '64 m West of', '64 m East of', '16 m West of', '6 m North of',\n",
              "       '3 m North of', '35 m East of', '10 m North of', '20 m South of',\n",
              "       '58 m West of', '100 m North of', '46 m North of', '4 m West of',\n",
              "       '70 m West of', '15 m South of', '246 m North of', '49 m East of',\n",
              "       '80 m East of', '300 m East of', '38 m North of', '20 m North of',\n",
              "       '11 m South of', '5 m South of', '100 m West of', '40 m East of',\n",
              "       '22 m East of', '4 m East of', '15 m East of', '60 m North of',\n",
              "       '17 m North of', '33 m West of', '374 m West of', '220 m South of',\n",
              "       '55 m North of', '14 m West of', '3 m  of', '120 m West of',\n",
              "       '30 m West of', '25M', '37 m South of', '120 m South of',\n",
              "       '58 m South of', '45 m West of', '11 m North of', '143 m West of',\n",
              "       '92.1 m south', '32 m East of', '65 m South of', '200 m West of',\n",
              "       '75 m East of', '94 m North of', '65.6 M E of', '13 m West of',\n",
              "       '105 m North of', '15 m North of', '8 m South of', '27 m West of',\n",
              "       '137 m South of', '7 m North of', '12.5 M S of', '130 m East of',\n",
              "       '121 m North of', '282 m South of', '51 m East of', '40 m East',\n",
              "       '219 m North of', '139 m South of', '66 m North of',\n",
              "       '68 m North of', '368 m East of', '80 m South of', '51 m West of',\n",
              "       '14 m East of', '2 m East of', '400 m North of', '90 m South of',\n",
              "       '245 m East of', '60 m West of', '120 m North of', '14 m North of',\n",
              "       '19 m South of', '90 m North of', '19 m East of', '134 m West of',\n",
              "       '7 m East of', '119 m West of', '11 m South of Light Post 300',\n",
              "       '110 m South of', '2 m South of', '150 m East of', '420 m West of',\n",
              "       '324 m East of', '63 m West of', '1 m South of', '16 m East of',\n",
              "       '196 m North of', '265 m East of', '130 m South of',\n",
              "       '70 m East of', '57 m North of', '90 m West of', '85 m South of',\n",
              "       '172 m East of', '16 m North of', '39 m South of', '13 m North of',\n",
              "       '450 m East of', '81 m West of', '11 m West of', '67 m South of',\n",
              "       '99 m South of', '18 m West of', '37 m East of', '50 m North of',\n",
              "       '72 m North of', '55 m East of', '160 m West of', '23 m West of',\n",
              "       '458 m West of', '7 m South of', '500 m West of', '131 m South of',\n",
              "       '51 m North of', '76 m South of', '69 m West of', '34 m South of',\n",
              "       '7 m South of MARTIN GROVE RD', '10 m west', '150 m East',\n",
              "       '50 m North', '47 m East of', '47 m West of',\n",
              "       '100 m North of DONALBERT ROAD', '29 m East of', '700 m East of',\n",
              "       'north of', '80 m North of', '250 m West of', '69 m North of',\n",
              "       '35 m South of', '233 m East of', '9 m North of', '101 m South of',\n",
              "       '65 m West of', '29 m West of', '42 m East of', '21 m East of',\n",
              "       '26 m West of', '12 m North of', '84 m South of', '98 m South of',\n",
              "       '177 m West of', '112 m North', '150 m North of', '8 m East of',\n",
              "       '6.5 m West of', '8.6 m East of', '386 m South of', '17 m East of',\n",
              "       '176 m South of', '6 m East of', '297 m East of',\n",
              "       '18 m South of BRANDON AV', '900 m West of', '252 m South of',\n",
              "       '113 m North of', '20 m North', '350 m West', '350 m North of',\n",
              "       '34 m East of', '8 m West of', '63 m North of', '300 m South of',\n",
              "       '30  m East of', '38 m East of', '120 m East of', '213 m West of',\n",
              "       '71 m West of', '84 m West of', '45 m South of', '88 m North of',\n",
              "       '200 m East of', '21 m North of', '99 m East of', '240 m North of',\n",
              "       '107 m East of', '150 m West of', '20 m  of', '95 m South of',\n",
              "       '185 m East of', '60 m South of', '49 m West of',\n",
              "       '365 m East of REGATTA ROAD', '13 m East of', '31 m West of',\n",
              "       '81 m North of', '37 m North of', '59 m North of',\n",
              "       '17 meters south', '107 m North of', '180 m East of',\n",
              "       '147 M North', '75 m East', '31 m East of', '92 m East of',\n",
              "       '41 m West of', '44 m West of', '74 m South of', '33 m North of',\n",
              "       '77 m South of', '75 m North of', '23 m North of',\n",
              "       '297 m South of', '73 m North of', '87 m East of',\n",
              "       '158 m South of', '16 m South of', '99 m West of', '11 m East of',\n",
              "       '52 m East of', '28 m North of', '45 m  of', '192 m West of',\n",
              "       '140 m East of', '620 HURON ST', '403 m N of', '408 m East of',\n",
              "       'E of', 'W of', '195 m South', '45 m North of', '34 meters south',\n",
              "       '52 m West of', '338 m West of', '150 m South of', '400 m East of',\n",
              "       '31.8 m East of', '42 m South', '260 m West of', '600 m East',\n",
              "       '70 m South of', '84 m North of', '153 m North of', '22 m West of',\n",
              "       '378 m South of', '169 m South of', '90 m East of ALLANFORD RD',\n",
              "       '250 m South of', '25 m North of', '119 m south', '27 m South of',\n",
              "       '160 m South of', '42.9 M EAST OF', '89 m East of',\n",
              "       '190 metre north of', '100 m south', '94 m East of',\n",
              "       '73 m South of', '89.5 m south', '39 m West of', '264 m West of',\n",
              "       '151 m West of', '235 m South of', '13 m South of', '5 m  of',\n",
              "       '233 m South of', '81 m South of', '305 m West of', '28 m West of',\n",
              "       '110 m East of', '290 m East of', '63 m East of', '155 m East of',\n",
              "       '57 m West of', '425 m East of', 'LEGGETT AVE', 'Near #685',\n",
              "       '132 m South of', '900 m East of', '44 m East of', '159 m West of',\n",
              "       '36 m West of', '43 m East of', '54 m East of', '20 metres north',\n",
              "       '4 m  of', '25 m West of YONGE ST', '26 m East of',\n",
              "       '52 m North of', '90 m East of', '24 m East of', '170 m East of',\n",
              "       '130 m West of', '82 m West of', '365 m East of', '135 m West of',\n",
              "       '110 m West of', '3 metres east', '189 m East of', '34 m West of',\n",
              "       '62 m West of', '339 m West of', '78 m South of', '48 m North of',\n",
              "       '112 m South of', '83 m West of', '93 m North of',\n",
              "       '168 m South of', '36 m East of', 'GERRARD ST E', '53 m West of',\n",
              "       '160 m East of', '332 m West of', '280 m North of',\n",
              "       '163 m North of', '61 m North of', '2 m  of', '66 m West of',\n",
              "       '6 m  of', '56 m South of St REGIS CR', 'No.4600 (Driveway)',\n",
              "       '96 m West of', '666 m South of', '75 m South of', '21 m West of'],\n",
              "      dtype=object)"
            ]
          },
          "metadata": {},
          "execution_count": 17
        }
      ]
    },
    {
      "cell_type": "code",
      "source": [
        "KSI['OFFSET'].value_counts()"
      ],
      "metadata": {
        "colab": {
          "base_uri": "https://localhost:8080/"
        },
        "id": "OKsrxLbHN5E7",
        "outputId": "c837f0c1-2554-4241-e0d8-81b416f0b073"
      },
      "execution_count": null,
      "outputs": [
        {
          "output_type": "execute_result",
          "data": {
            "text/plain": [
              "<Null>            14114\n",
              "10 m North of        45\n",
              "5 m South of         42\n",
              "10 m South of        37\n",
              "10 m West of         36\n",
              "                  ...  \n",
              "403 m N of            1\n",
              "339 m West of         1\n",
              "38 m North of         1\n",
              "365 m East of         1\n",
              "350 m North of        1\n",
              "Name: OFFSET, Length: 420, dtype: int64"
            ]
          },
          "metadata": {},
          "execution_count": 16
        }
      ]
    },
    {
      "cell_type": "code",
      "source": [
        "KSI['ROAD_CLASS'].unique()"
      ],
      "metadata": {
        "colab": {
          "base_uri": "https://localhost:8080/"
        },
        "id": "Olh70dolQwGc",
        "outputId": "394a1fc9-10aa-488d-ddf8-b2d224cf3bbb"
      },
      "execution_count": null,
      "outputs": [
        {
          "output_type": "execute_result",
          "data": {
            "text/plain": [
              "array(['Major Arterial', 'Collector', 'Minor Arterial', 'Local', '<Null>',\n",
              "       'Other', 'Pending', 'Laneway', 'Expressway', 'Expressway Ramp',\n",
              "       'Major Arterial Ramp'], dtype=object)"
            ]
          },
          "metadata": {},
          "execution_count": 18
        }
      ]
    },
    {
      "cell_type": "code",
      "source": [
        "KSI['ROAD_CLASS'].value_counts()"
      ],
      "metadata": {
        "colab": {
          "base_uri": "https://localhost:8080/"
        },
        "id": "-EeJNDpxQwDi",
        "outputId": "cbebc68d-18d1-40bb-81ef-dba4b9423434"
      },
      "execution_count": null,
      "outputs": [
        {
          "output_type": "execute_result",
          "data": {
            "text/plain": [
              "Major Arterial         11976\n",
              "Minor Arterial          2598\n",
              "Collector                929\n",
              "Local                    761\n",
              "<Null>                   497\n",
              "Expressway                52\n",
              "Other                     25\n",
              "Laneway                   10\n",
              "Pending                    7\n",
              "Expressway Ramp            4\n",
              "Major Arterial Ramp        1\n",
              "Name: ROAD_CLASS, dtype: int64"
            ]
          },
          "metadata": {},
          "execution_count": 19
        }
      ]
    },
    {
      "cell_type": "code",
      "source": [
        "KSI['DISTRICT'].unique()"
      ],
      "metadata": {
        "colab": {
          "base_uri": "https://localhost:8080/"
        },
        "id": "7CDBZGnRQwAy",
        "outputId": "9377e8d5-474a-4cdc-883b-c5e2e7ea8932"
      },
      "execution_count": null,
      "outputs": [
        {
          "output_type": "execute_result",
          "data": {
            "text/plain": [
              "array(['Toronto and East York', 'Scarborough', 'Etobicoke York',\n",
              "       'North York', '<Null>', 'Toronto East York'], dtype=object)"
            ]
          },
          "metadata": {},
          "execution_count": 20
        }
      ]
    },
    {
      "cell_type": "code",
      "source": [
        "KSI['DISTRICT'].value_counts()"
      ],
      "metadata": {
        "colab": {
          "base_uri": "https://localhost:8080/"
        },
        "id": "NGMJXHwmQv8k",
        "outputId": "6aa35ef8-5fe3-4b2d-c424-51618a3cc57c"
      },
      "execution_count": null,
      "outputs": [
        {
          "output_type": "execute_result",
          "data": {
            "text/plain": [
              "Toronto and East York    5617\n",
              "Etobicoke York           3884\n",
              "Scarborough              3798\n",
              "North York               3343\n",
              "<Null>                    141\n",
              "Toronto East York          77\n",
              "Name: DISTRICT, dtype: int64"
            ]
          },
          "metadata": {},
          "execution_count": 21
        }
      ]
    },
    {
      "cell_type": "code",
      "source": [
        "KSI['WARDNUM'].unique()"
      ],
      "metadata": {
        "colab": {
          "base_uri": "https://localhost:8080/"
        },
        "id": "ZzfZyTXDQvyB",
        "outputId": "9db6b347-a9e7-481d-e2a1-20a0d8a8965c"
      },
      "execution_count": null,
      "outputs": [
        {
          "output_type": "execute_result",
          "data": {
            "text/plain": [
              "array(['4', '25', '21,20', '9,11,10', '1,2', '22', '13', '9', '11', '18',\n",
              "       '6', '24', '5', '14', '10', '16', '15,16', '12', '8', '23', '21',\n",
              "       '8,15', '2', '15', '3', '7', '17', '19', '1', '11,13', '9,12',\n",
              "       '16,21', '8,12', '23,25', '2,3', '24,25', '9,11', '20', '22,23',\n",
              "       '10,13', '7,6', '21,24', '11,10', '4,10', '18,17', '5,9', '17,22',\n",
              "       '1,7', '19,20', '9,10', '8,9', '13,14', '14,19', '6,18', '11,15',\n",
              "       '11,10,13', '20,24', '12,15', '16,20', '5,4', '16,21,20', '10,14',\n",
              "       '8,9,12', '12,11', '23,24', '4,9,10', '16,19,20', '3,4', '21,23',\n",
              "       '4,9', '17,16,22,21', '9,12,11', '07,06', '16,19', '<Null>'],\n",
              "      dtype=object)"
            ]
          },
          "metadata": {},
          "execution_count": 22
        }
      ]
    },
    {
      "cell_type": "code",
      "source": [
        "KSI['WARDNUM'].value_counts()"
      ],
      "metadata": {
        "colab": {
          "base_uri": "https://localhost:8080/"
        },
        "id": "n0mYBPFZREW6",
        "outputId": "e4aa1275-73e0-411b-d690-b43fd00d11b7"
      },
      "execution_count": null,
      "outputs": [
        {
          "output_type": "execute_result",
          "data": {
            "text/plain": [
              "10             967\n",
              "1              883\n",
              "3              769\n",
              "11             755\n",
              "14             738\n",
              "              ... \n",
              "4,9              2\n",
              "17,16,22,21      2\n",
              "9,12,11          2\n",
              "07,06            2\n",
              "5,4              1\n",
              "Name: WARDNUM, Length: 75, dtype: int64"
            ]
          },
          "metadata": {},
          "execution_count": 23
        }
      ]
    },
    {
      "cell_type": "code",
      "source": [
        "KSI['DIVISION'].unique()"
      ],
      "metadata": {
        "colab": {
          "base_uri": "https://localhost:8080/"
        },
        "id": "SBR9QckYRFNH",
        "outputId": "35d54c8c-c18e-4060-8f01-49b53a956ddc"
      },
      "execution_count": null,
      "outputs": [
        {
          "output_type": "execute_result",
          "data": {
            "text/plain": [
              "array(['11', '42', '41', '14', '23', '51', '32', '31', '12,11', '43',\n",
              "       '12', '55', '13', '52', '54', '33', '23,22', '22', '53', '53,13',\n",
              "       '41,33', '41,43', '52,14', '11,14', '51,52', '54,55', '53,52',\n",
              "       '54,33', '33,32', '33,42', '23,31', '41,54', '53,32', '32,13',\n",
              "       '53,51', '55,51', '53,14', '0,52', '41,54,33', '41,55', '53,32,13',\n",
              "       '13,14', '53,52,14', '43,42', '11,13', '22,11', '0,51', '41,43,42',\n",
              "       '41,33,42', '53,33,32', '<Null>'], dtype=object)"
            ]
          },
          "metadata": {},
          "execution_count": 24
        }
      ]
    },
    {
      "cell_type": "code",
      "source": [
        "KSI['DIVISION'].value_counts()"
      ],
      "metadata": {
        "colab": {
          "base_uri": "https://localhost:8080/"
        },
        "id": "_V_UqpwLRFJ6",
        "outputId": "e823b274-537e-43b1-fad8-75ec0dbe96a3"
      },
      "execution_count": null,
      "outputs": [
        {
          "output_type": "execute_result",
          "data": {
            "text/plain": [
              "42          1584\n",
              "32          1160\n",
              "23          1109\n",
              "41          1091\n",
              "22          1066\n",
              "14          1023\n",
              "43           952\n",
              "31           866\n",
              "53           747\n",
              "52           726\n",
              "12           723\n",
              "51           714\n",
              "33           698\n",
              "13           666\n",
              "11           642\n",
              "55           566\n",
              "54           489\n",
              "54,55        242\n",
              "<Null>       196\n",
              "51,52        152\n",
              "52,14        138\n",
              "11,14        136\n",
              "23,22        123\n",
              "12,11        113\n",
              "41,43        108\n",
              "33,32        103\n",
              "41,33        102\n",
              "53,13         77\n",
              "32,13         72\n",
              "33,42         70\n",
              "54,33         58\n",
              "41,54         49\n",
              "53,51         46\n",
              "53,32         44\n",
              "23,31         38\n",
              "55,51         35\n",
              "53,52         32\n",
              "53,14         26\n",
              "41,54,33      16\n",
              "53,52,14      13\n",
              "53,32,13       9\n",
              "13,14          9\n",
              "0,52           7\n",
              "41,55          6\n",
              "41,43,42       5\n",
              "11,13          3\n",
              "0,51           3\n",
              "43,42          2\n",
              "22,11          2\n",
              "41,33,42       2\n",
              "53,33,32       1\n",
              "Name: DIVISION, dtype: int64"
            ]
          },
          "metadata": {},
          "execution_count": 25
        }
      ]
    },
    {
      "cell_type": "code",
      "source": [
        "KSI['LOCCOORD'].unique()"
      ],
      "metadata": {
        "colab": {
          "base_uri": "https://localhost:8080/"
        },
        "id": "sYFtDmjwRRSx",
        "outputId": "e9b703ac-3ad7-4a5a-8aec-449c47af2fee"
      },
      "execution_count": null,
      "outputs": [
        {
          "output_type": "execute_result",
          "data": {
            "text/plain": [
              "array(['Intersection', 'Mid-Block', '<Null>', 'Exit Ramp Westbound',\n",
              "       'Exit Ramp Southbound', 'Mid-Block (Abnormal)',\n",
              "       'Entrance Ramp Westbound', 'Park, Private Property, Public Lane'],\n",
              "      dtype=object)"
            ]
          },
          "metadata": {},
          "execution_count": 26
        }
      ]
    },
    {
      "cell_type": "code",
      "source": [
        "KSI['LOCCOORD'].value_counts()"
      ],
      "metadata": {
        "colab": {
          "base_uri": "https://localhost:8080/"
        },
        "id": "Am2A8lhVRROa",
        "outputId": "37066151-938f-4b6a-f1cb-c871cfde77d3"
      },
      "execution_count": null,
      "outputs": [
        {
          "output_type": "execute_result",
          "data": {
            "text/plain": [
              "Intersection                           11141\n",
              "Mid-Block                               5598\n",
              "<Null>                                   105\n",
              "Exit Ramp Westbound                        5\n",
              "Mid-Block (Abnormal)                       4\n",
              "Exit Ramp Southbound                       3\n",
              "Entrance Ramp Westbound                    2\n",
              "Park, Private Property, Public Lane        2\n",
              "Name: LOCCOORD, dtype: int64"
            ]
          },
          "metadata": {},
          "execution_count": 27
        }
      ]
    },
    {
      "cell_type": "code",
      "source": [
        "KSI['ACCLOC'].unique()"
      ],
      "metadata": {
        "colab": {
          "base_uri": "https://localhost:8080/"
        },
        "id": "vJlSOOuhRRGn",
        "outputId": "464958c3-a187-44fb-a7f9-6ca08527e31e"
      },
      "execution_count": null,
      "outputs": [
        {
          "output_type": "execute_result",
          "data": {
            "text/plain": [
              "array(['At Intersection', '<Null>', 'Intersection Related',\n",
              "       'Non Intersection', 'Private Driveway', 'At/Near Private Drive',\n",
              "       'Overpass or Bridge', 'Underpass or Tunnel', 'Trail', 'Laneway'],\n",
              "      dtype=object)"
            ]
          },
          "metadata": {},
          "execution_count": 29
        }
      ]
    },
    {
      "cell_type": "code",
      "source": [
        "KSI['ACCLOC'].value_counts()"
      ],
      "metadata": {
        "colab": {
          "base_uri": "https://localhost:8080/"
        },
        "id": "VnbmRv55RRBy",
        "outputId": "793162f4-583f-483a-ff89-8c1196bb6c85"
      },
      "execution_count": null,
      "outputs": [
        {
          "output_type": "execute_result",
          "data": {
            "text/plain": [
              "At Intersection          8060\n",
              "<Null>                   5450\n",
              "Non Intersection         1968\n",
              "Intersection Related     1019\n",
              "At/Near Private Drive     318\n",
              "Private Driveway           13\n",
              "Laneway                    13\n",
              "Overpass or Bridge         12\n",
              "Underpass or Tunnel         6\n",
              "Trail                       1\n",
              "Name: ACCLOC, dtype: int64"
            ]
          },
          "metadata": {},
          "execution_count": 28
        }
      ]
    },
    {
      "cell_type": "code",
      "source": [
        "KSI['TRAFFCTL'].unique()"
      ],
      "metadata": {
        "colab": {
          "base_uri": "https://localhost:8080/"
        },
        "id": "_VbWIhfGRf4t",
        "outputId": "4d9da028-8b3a-47e4-84b4-b529352d5f3d"
      },
      "execution_count": null,
      "outputs": [
        {
          "output_type": "execute_result",
          "data": {
            "text/plain": [
              "array(['Traffic Signal', 'No Control', 'Pedestrian Crossover',\n",
              "       'Stop Sign', '<Null>', 'Yield Sign', 'Traffic Controller',\n",
              "       'School Guard', 'Police Control', 'Traffic Gate',\n",
              "       'Streetcar (Stop for)'], dtype=object)"
            ]
          },
          "metadata": {},
          "execution_count": 30
        }
      ]
    },
    {
      "cell_type": "code",
      "source": [
        "KSI['TRAFFCTL'].value_counts()"
      ],
      "metadata": {
        "colab": {
          "base_uri": "https://localhost:8080/"
        },
        "id": "IWrTqhLZRf1A",
        "outputId": "61bb1f60-528b-4af7-9359-a92a898da95a"
      },
      "execution_count": null,
      "outputs": [
        {
          "output_type": "execute_result",
          "data": {
            "text/plain": [
              "No Control              8092\n",
              "Traffic Signal          7104\n",
              "Stop Sign               1295\n",
              "Pedestrian Crossover     195\n",
              "Traffic Controller       104\n",
              "<Null>                    29\n",
              "Yield Sign                16\n",
              "Streetcar (Stop for)      16\n",
              "Traffic Gate               5\n",
              "School Guard               2\n",
              "Police Control             2\n",
              "Name: TRAFFCTL, dtype: int64"
            ]
          },
          "metadata": {},
          "execution_count": 31
        }
      ]
    },
    {
      "cell_type": "code",
      "source": [
        "KSI['VISIBILITY'].unique()"
      ],
      "metadata": {
        "colab": {
          "base_uri": "https://localhost:8080/"
        },
        "id": "A_LjUQSDRfyv",
        "outputId": "30404bbf-eed5-458d-e945-c4b61d81f206"
      },
      "execution_count": null,
      "outputs": [
        {
          "output_type": "execute_result",
          "data": {
            "text/plain": [
              "array(['Clear', 'Rain', 'Other', 'Snow', 'Strong wind',\n",
              "       'Fog, Mist, Smoke, Dust', 'Drifting Snow', 'Freezing Rain',\n",
              "       '<Null>'], dtype=object)"
            ]
          },
          "metadata": {},
          "execution_count": 32
        }
      ]
    },
    {
      "cell_type": "code",
      "source": [
        "KSI['VISIBILITY'].value_counts()"
      ],
      "metadata": {
        "colab": {
          "base_uri": "https://localhost:8080/"
        },
        "id": "rVdINe6uRfvA",
        "outputId": "8963a287-4b45-4077-e3bb-44e4538debfa"
      },
      "execution_count": null,
      "outputs": [
        {
          "output_type": "execute_result",
          "data": {
            "text/plain": [
              "Clear                     14476\n",
              "Rain                       1819\n",
              "Snow                        332\n",
              "Other                        99\n",
              "Fog, Mist, Smoke, Dust       46\n",
              "Freezing Rain                43\n",
              "Drifting Snow                19\n",
              "<Null>                       18\n",
              "Strong wind                   8\n",
              "Name: VISIBILITY, dtype: int64"
            ]
          },
          "metadata": {},
          "execution_count": 33
        }
      ]
    },
    {
      "cell_type": "code",
      "source": [
        "KSI['LIGHT'].unique()"
      ],
      "metadata": {
        "colab": {
          "base_uri": "https://localhost:8080/"
        },
        "id": "n2iuODHGRtsL",
        "outputId": "0edcea1e-0f8a-4a65-a63a-f3333e3bae14"
      },
      "execution_count": null,
      "outputs": [
        {
          "output_type": "execute_result",
          "data": {
            "text/plain": [
              "array(['Daylight', 'Dark', 'Dawn, artificial', 'Dusk, artificial', 'Dusk',\n",
              "       'Dark, artificial', 'Dawn', 'Daylight, artificial', 'Other'],\n",
              "      dtype=object)"
            ]
          },
          "metadata": {},
          "execution_count": 34
        }
      ]
    },
    {
      "cell_type": "code",
      "source": [
        "KSI['LIGHT'].value_counts()"
      ],
      "metadata": {
        "colab": {
          "base_uri": "https://localhost:8080/"
        },
        "id": "5Q6D36lnRuak",
        "outputId": "28eb75a1-3e8d-4c3c-8887-e6878fa26893"
      },
      "execution_count": null,
      "outputs": [
        {
          "output_type": "execute_result",
          "data": {
            "text/plain": [
              "Daylight                9683\n",
              "Dark                    3582\n",
              "Dark, artificial        2854\n",
              "Dusk                     226\n",
              "Dusk, artificial         184\n",
              "Daylight, artificial     128\n",
              "Dawn                     104\n",
              "Dawn, artificial          93\n",
              "Other                      6\n",
              "Name: LIGHT, dtype: int64"
            ]
          },
          "metadata": {},
          "execution_count": 35
        }
      ]
    },
    {
      "cell_type": "code",
      "source": [
        "KSI['RDSFCOND'].unique()"
      ],
      "metadata": {
        "colab": {
          "base_uri": "https://localhost:8080/"
        },
        "id": "0hl1Oo3eRuXt",
        "outputId": "d131c0f8-4a74-4c4c-fecb-cb442a84b7c9"
      },
      "execution_count": null,
      "outputs": [
        {
          "output_type": "execute_result",
          "data": {
            "text/plain": [
              "array(['Dry', 'Wet', 'Other', 'Slush', 'Loose Snow', 'Ice', 'Packed Snow',\n",
              "       'Spilled liquid', 'Loose Sand or Gravel', '<Null>'], dtype=object)"
            ]
          },
          "metadata": {},
          "execution_count": 36
        }
      ]
    },
    {
      "cell_type": "code",
      "source": [
        "KSI['RDSFCOND'].value_counts()"
      ],
      "metadata": {
        "colab": {
          "base_uri": "https://localhost:8080/"
        },
        "id": "0lml5wOfRuUo",
        "outputId": "8ede42d4-a607-49dc-a46d-3d6304ffea46"
      },
      "execution_count": null,
      "outputs": [
        {
          "output_type": "execute_result",
          "data": {
            "text/plain": [
              "Dry                     13435\n",
              "Wet                      2870\n",
              "Loose Snow                166\n",
              "Other                     147\n",
              "Slush                      96\n",
              "Ice                        73\n",
              "Packed Snow                42\n",
              "<Null>                     23\n",
              "Loose Sand or Gravel        7\n",
              "Spilled liquid              1\n",
              "Name: RDSFCOND, dtype: int64"
            ]
          },
          "metadata": {},
          "execution_count": 37
        }
      ]
    },
    {
      "cell_type": "code",
      "source": [
        "KSI['ACCLASS'].unique()"
      ],
      "metadata": {
        "colab": {
          "base_uri": "https://localhost:8080/"
        },
        "id": "NmMiyiO_R6ip",
        "outputId": "665ccb97-bc78-4282-83d4-c113588c7c9b"
      },
      "execution_count": null,
      "outputs": [
        {
          "output_type": "execute_result",
          "data": {
            "text/plain": [
              "array(['Fatal', 'Non-Fatal Injury', 'Property Damage Only'], dtype=object)"
            ]
          },
          "metadata": {},
          "execution_count": 38
        }
      ]
    },
    {
      "cell_type": "code",
      "source": [
        "KSI['ACCLASS'].value_counts()"
      ],
      "metadata": {
        "colab": {
          "base_uri": "https://localhost:8080/"
        },
        "id": "dwiXpOYeR6P1",
        "outputId": "dcf74ee1-7099-4b67-ade9-18bfce4f9942"
      },
      "execution_count": null,
      "outputs": [
        {
          "output_type": "execute_result",
          "data": {
            "text/plain": [
              "Non-Fatal Injury        14561\n",
              "Fatal                    2297\n",
              "Property Damage Only        2\n",
              "Name: ACCLASS, dtype: int64"
            ]
          },
          "metadata": {},
          "execution_count": 39
        }
      ]
    },
    {
      "cell_type": "code",
      "source": [
        "KSI['IMPACTYPE'].unique()"
      ],
      "metadata": {
        "colab": {
          "base_uri": "https://localhost:8080/"
        },
        "id": "LY8HZSRtR6OC",
        "outputId": "19b80aa3-f804-4767-979e-d55e39de4615"
      },
      "execution_count": null,
      "outputs": [
        {
          "output_type": "execute_result",
          "data": {
            "text/plain": [
              "array(['Pedestrian Collisions', 'Turning Movement', 'Angle',\n",
              "       'Approaching', 'SMV Other', 'Rear End', 'SMV Unattended Vehicle',\n",
              "       'Sideswipe', 'Cyclist Collisions', 'Other', '<Null>'], dtype=object)"
            ]
          },
          "metadata": {},
          "execution_count": 40
        }
      ]
    },
    {
      "cell_type": "code",
      "source": [
        "KSI['IMPACTYPE'].value_counts()"
      ],
      "metadata": {
        "colab": {
          "base_uri": "https://localhost:8080/"
        },
        "id": "dLas4BOuR6Kg",
        "outputId": "70d37d2b-c3e4-4612-aa47-21be048c65ce"
      },
      "execution_count": null,
      "outputs": [
        {
          "output_type": "execute_result",
          "data": {
            "text/plain": [
              "Pedestrian Collisions     6811\n",
              "Turning Movement          2552\n",
              "Cyclist Collisions        1674\n",
              "Rear End                  1602\n",
              "SMV Other                 1312\n",
              "Angle                     1206\n",
              "Approaching                870\n",
              "Sideswipe                  466\n",
              "Other                      182\n",
              "SMV Unattended Vehicle     181\n",
              "<Null>                       4\n",
              "Name: IMPACTYPE, dtype: int64"
            ]
          },
          "metadata": {},
          "execution_count": 41
        }
      ]
    },
    {
      "cell_type": "code",
      "source": [
        "KSI['INVTYPE'].unique()"
      ],
      "metadata": {
        "colab": {
          "base_uri": "https://localhost:8080/"
        },
        "id": "o3e7Vqh_SLcZ",
        "outputId": "c8fe7911-0922-42ad-9cd6-56fd2a286f0c"
      },
      "execution_count": null,
      "outputs": [
        {
          "output_type": "execute_result",
          "data": {
            "text/plain": [
              "array(['Driver', 'Pedestrian', 'Motorcycle Driver', 'Passenger',\n",
              "       'Vehicle Owner', 'Other Property Owner', 'Other', 'Cyclist',\n",
              "       'Truck Driver', 'Motorcycle Passenger', '<Null>',\n",
              "       'Driver - Not Hit', 'In-Line Skater', 'Moped Driver', 'Wheelchair',\n",
              "       'Pedestrian - Not Hit', 'Trailer Owner', 'Witness',\n",
              "       'Cyclist Passenger'], dtype=object)"
            ]
          },
          "metadata": {},
          "execution_count": 42
        }
      ]
    },
    {
      "cell_type": "code",
      "source": [
        "KSI['INVTYPE'].value_counts()"
      ],
      "metadata": {
        "colab": {
          "base_uri": "https://localhost:8080/"
        },
        "id": "zHDBIsjTSMPW",
        "outputId": "b8e4fb5c-b3ab-4746-9d40-1b70133fb0e3"
      },
      "execution_count": null,
      "outputs": [
        {
          "output_type": "execute_result",
          "data": {
            "text/plain": [
              "Driver                  7618\n",
              "Pedestrian              2871\n",
              "Passenger               2543\n",
              "Vehicle Owner           1636\n",
              "Cyclist                  726\n",
              "Motorcycle Driver        607\n",
              "Truck Driver             316\n",
              "Other Property Owner     257\n",
              "Other                    174\n",
              "Motorcycle Passenger      32\n",
              "Moped Driver              27\n",
              "Driver - Not Hit          17\n",
              "Wheelchair                13\n",
              "<Null>                    12\n",
              "In-Line Skater             5\n",
              "Trailer Owner              2\n",
              "Cyclist Passenger          2\n",
              "Pedestrian - Not Hit       1\n",
              "Witness                    1\n",
              "Name: INVTYPE, dtype: int64"
            ]
          },
          "metadata": {},
          "execution_count": 43
        }
      ]
    },
    {
      "cell_type": "code",
      "source": [
        "KSI['INVAGE'].unique()"
      ],
      "metadata": {
        "colab": {
          "base_uri": "https://localhost:8080/"
        },
        "id": "XT7UBQqNSML7",
        "outputId": "31ff2850-8e5f-4037-cf33-8a649613b31f"
      },
      "execution_count": null,
      "outputs": [
        {
          "output_type": "execute_result",
          "data": {
            "text/plain": [
              "array(['unknown', '65 to 69', '45 to 49', '25 to 29', '30 to 34',\n",
              "       '40 to 44', '20 to 24', '55 to 59', '0 to 4', '35 to 39',\n",
              "       '60 to 64', '50 to 54', '15 to 19', '80 to 84', '70 to 74',\n",
              "       '75 to 79', '90 to 94', '10 to 14', '5 to 9', '85 to 89',\n",
              "       'Over 95'], dtype=object)"
            ]
          },
          "metadata": {},
          "execution_count": 44
        }
      ]
    },
    {
      "cell_type": "code",
      "source": [
        "KSI['INVAGE'].value_counts()"
      ],
      "metadata": {
        "colab": {
          "base_uri": "https://localhost:8080/"
        },
        "id": "Un8GO3oASMH6",
        "outputId": "e85c77a9-4fe0-4758-e9b6-cd54fc3c75f0"
      },
      "execution_count": null,
      "outputs": [
        {
          "output_type": "execute_result",
          "data": {
            "text/plain": [
              "unknown     2573\n",
              "20 to 24    1561\n",
              "25 to 29    1504\n",
              "30 to 34    1248\n",
              "50 to 54    1222\n",
              "35 to 39    1205\n",
              "40 to 44    1181\n",
              "45 to 49    1153\n",
              "55 to 59     993\n",
              "60 to 64     796\n",
              "15 to 19     766\n",
              "65 to 69     614\n",
              "70 to 74     488\n",
              "75 to 79     402\n",
              "80 to 84     307\n",
              "10 to 14     231\n",
              "85 to 89     196\n",
              "5 to 9       183\n",
              "0 to 4       167\n",
              "90 to 94      56\n",
              "Over 95       14\n",
              "Name: INVAGE, dtype: int64"
            ]
          },
          "metadata": {},
          "execution_count": 45
        }
      ]
    },
    {
      "cell_type": "code",
      "source": [
        "KSI['INJURY'].unique()"
      ],
      "metadata": {
        "colab": {
          "base_uri": "https://localhost:8080/"
        },
        "id": "oXLwnrOGSaI7",
        "outputId": "81538f37-998f-4fef-8f56-19790d99a4fc"
      },
      "execution_count": null,
      "outputs": [
        {
          "output_type": "execute_result",
          "data": {
            "text/plain": [
              "array(['None', 'Fatal', 'Minor', 'Major', 'Minimal', '<Null>'],\n",
              "      dtype=object)"
            ]
          },
          "metadata": {},
          "execution_count": 46
        }
      ]
    },
    {
      "cell_type": "code",
      "source": [
        "KSI['INVAGE'].value_counts()"
      ],
      "metadata": {
        "colab": {
          "base_uri": "https://localhost:8080/"
        },
        "id": "ogLsQVqnSaFz",
        "outputId": "3884ef81-afc7-4ca1-fef4-d17d02877d46"
      },
      "execution_count": null,
      "outputs": [
        {
          "output_type": "execute_result",
          "data": {
            "text/plain": [
              "array(['None', 'Fatal', 'Minor', 'Major', 'Minimal', '<Null>'],\n",
              "      dtype=object)"
            ]
          },
          "metadata": {},
          "execution_count": 47
        }
      ]
    },
    {
      "cell_type": "code",
      "source": [
        "KSI['FATAL_NO'].unique()"
      ],
      "metadata": {
        "colab": {
          "base_uri": "https://localhost:8080/"
        },
        "id": "RqtQjde5SaC2",
        "outputId": "ed59b9be-6a90-4dfa-d1ad-0f354bfc7eab"
      },
      "execution_count": null,
      "outputs": [
        {
          "output_type": "execute_result",
          "data": {
            "text/plain": [
              "array(['<Null>', '1', '2', '3', '4', '15', '22', '26', '23', '24', '25',\n",
              "       '27', '28', '29', '30', '31', '32', '16', '43', '44', '46', '45',\n",
              "       '47', '48', '49', '17', '8', '33', '38', '39', '40', '41', '42',\n",
              "       '35', '34', '5', '6', '7', '14', '12', '10', '9', '11', '13', '18',\n",
              "       '19', '20', '21', '36', '37', '53', '50', '51', '52', '54', '55',\n",
              "       '57', '56', '58', '59', '60', '61', '62', '63', '65', '64', '78',\n",
              "       '66', '67', '68', '69', '70', '71', '72', '73', '74', '75', '76',\n",
              "       '77'], dtype=object)"
            ]
          },
          "metadata": {},
          "execution_count": 48
        }
      ]
    },
    {
      "cell_type": "code",
      "source": [
        "KSI['INVAGE'].value_counts()"
      ],
      "metadata": {
        "colab": {
          "base_uri": "https://localhost:8080/"
        },
        "id": "e0MAba61SZ_T",
        "outputId": "1f169218-ced9-47bc-c679-408e1693459f"
      },
      "execution_count": null,
      "outputs": [
        {
          "output_type": "execute_result",
          "data": {
            "text/plain": [
              "array(['<Null>', '1', '2', '3', '4', '15', '22', '26', '23', '24', '25',\n",
              "       '27', '28', '29', '30', '31', '32', '16', '43', '44', '46', '45',\n",
              "       '47', '48', '49', '17', '8', '33', '38', '39', '40', '41', '42',\n",
              "       '35', '34', '5', '6', '7', '14', '12', '10', '9', '11', '13', '18',\n",
              "       '19', '20', '21', '36', '37', '53', '50', '51', '52', '54', '55',\n",
              "       '57', '56', '58', '59', '60', '61', '62', '63', '65', '64', '78',\n",
              "       '66', '67', '68', '69', '70', '71', '72', '73', '74', '75', '76',\n",
              "       '77'], dtype=object)"
            ]
          },
          "metadata": {},
          "execution_count": 49
        }
      ]
    },
    {
      "cell_type": "code",
      "source": [
        "KSI['INITDIR'].unique()"
      ],
      "metadata": {
        "colab": {
          "base_uri": "https://localhost:8080/"
        },
        "id": "bTHhRZwNSjNB",
        "outputId": "6715bea0-0ea1-437b-aa47-8fabed9ad5cd"
      },
      "execution_count": null,
      "outputs": [
        {
          "output_type": "execute_result",
          "data": {
            "text/plain": [
              "array(['South', 'North', 'East', 'West', '<Null>', 'Unknown'],\n",
              "      dtype=object)"
            ]
          },
          "metadata": {},
          "execution_count": 50
        }
      ]
    },
    {
      "cell_type": "code",
      "source": [
        "KSI['INITDIR'].value_counts()"
      ],
      "metadata": {
        "colab": {
          "base_uri": "https://localhost:8080/"
        },
        "id": "_NU_42g1SjJa",
        "outputId": "4961f44c-3a42-4406-fcbb-990323d185a5"
      },
      "execution_count": null,
      "outputs": [
        {
          "output_type": "execute_result",
          "data": {
            "text/plain": [
              "<Null>     4894\n",
              "East       3010\n",
              "West       2900\n",
              "North      2813\n",
              "South      2809\n",
              "Unknown     434\n",
              "Name: INITDIR, dtype: int64"
            ]
          },
          "metadata": {},
          "execution_count": 51
        }
      ]
    },
    {
      "cell_type": "code",
      "source": [
        "KSI['VEHTYPE'].unique()"
      ],
      "metadata": {
        "colab": {
          "base_uri": "https://localhost:8080/"
        },
        "id": "uHyRLpKWSiqa",
        "outputId": "fc9774b1-7032-4e7d-be77-84537b8d9500"
      },
      "execution_count": null,
      "outputs": [
        {
          "output_type": "execute_result",
          "data": {
            "text/plain": [
              "array(['Automobile, Station Wagon', 'Other', 'Motorcycle', 'Bicycle',\n",
              "       '<Null>', 'Municipal Transit Bus (TTC)', 'Truck - Open', 'Taxi',\n",
              "       'Passenger Van', 'Delivery Van', 'Moped', 'Pick Up Truck',\n",
              "       'Police Vehicle', 'Truck-Tractor', 'Truck - Closed (Blazer, etc)',\n",
              "       'Street Car', 'Bus (Other) (Go Bus, Gray Coach)', 'Truck - Dump',\n",
              "       'Construction Equipment', 'Intercity Bus', 'Truck (other)',\n",
              "       'Truck - Tank', 'Other Emergency Vehicle', 'School Bus',\n",
              "       'Tow Truck', 'Off Road - 2 Wheels', 'Fire Vehicle',\n",
              "       'Truck - Car Carrier'], dtype=object)"
            ]
          },
          "metadata": {},
          "execution_count": 52
        }
      ]
    },
    {
      "cell_type": "code",
      "source": [
        "KSI['VEHTYPE'].value_counts()"
      ],
      "metadata": {
        "colab": {
          "base_uri": "https://localhost:8080/"
        },
        "id": "swTHN7QxSimH",
        "outputId": "35560f8a-964d-4bb2-d28e-e15a0151cb19"
      },
      "execution_count": null,
      "outputs": [
        {
          "output_type": "execute_result",
          "data": {
            "text/plain": [
              "Automobile, Station Wagon           6890\n",
              "Other                               4746\n",
              "<Null>                              2813\n",
              "Bicycle                              722\n",
              "Motorcycle                           608\n",
              "Municipal Transit Bus (TTC)          249\n",
              "Pick Up Truck                        179\n",
              "Truck - Open                         175\n",
              "Passenger Van                        118\n",
              "Delivery Van                          72\n",
              "Truck - Closed (Blazer, etc)          60\n",
              "Street Car                            42\n",
              "Truck - Dump                          34\n",
              "Truck-Tractor                         33\n",
              "Taxi                                  28\n",
              "Moped                                 22\n",
              "Truck (other)                         13\n",
              "Bus (Other) (Go Bus, Gray Coach)      13\n",
              "Truck - Tank                          10\n",
              "Intercity Bus                         10\n",
              "School Bus                             5\n",
              "Police Vehicle                         4\n",
              "Construction Equipment                 4\n",
              "Tow Truck                              4\n",
              "Fire Vehicle                           3\n",
              "Other Emergency Vehicle                1\n",
              "Off Road - 2 Wheels                    1\n",
              "Truck - Car Carrier                    1\n",
              "Name: VEHTYPE, dtype: int64"
            ]
          },
          "metadata": {},
          "execution_count": 53
        }
      ]
    },
    {
      "cell_type": "code",
      "source": [
        "KSI['MANOEUVER'].unique()"
      ],
      "metadata": {
        "colab": {
          "base_uri": "https://localhost:8080/"
        },
        "id": "AT9EMo7CSijb",
        "outputId": "c4031aa3-d95d-4e49-b7d3-344440fefb90"
      },
      "execution_count": null,
      "outputs": [
        {
          "output_type": "execute_result",
          "data": {
            "text/plain": [
              "array(['Turning Left', '<Null>', 'Turning Right', 'Going Ahead',\n",
              "       'Stopped', 'Other', 'Making U Turn', 'Slowing or Stopping',\n",
              "       'Parked', 'Unknown', 'Overtaking', 'Changing Lanes', 'Reversing',\n",
              "       'Pulling Away from Shoulder or Curb',\n",
              "       'Pulling Onto Shoulder or towardCurb', 'Merging', 'Disabled'],\n",
              "      dtype=object)"
            ]
          },
          "metadata": {},
          "execution_count": 54
        }
      ]
    },
    {
      "cell_type": "code",
      "source": [
        "KSI['MANOEUVER'].value_counts()"
      ],
      "metadata": {
        "colab": {
          "base_uri": "https://localhost:8080/"
        },
        "id": "mZx7aOvqSids",
        "outputId": "14fc039f-fb11-4b9f-a706-03704f7e380b"
      },
      "execution_count": null,
      "outputs": [
        {
          "output_type": "execute_result",
          "data": {
            "text/plain": [
              "<Null>                                 7233\n",
              "Going Ahead                            5694\n",
              "Turning Left                           1630\n",
              "Stopped                                 576\n",
              "Turning Right                           432\n",
              "Slowing or Stopping                     249\n",
              "Changing Lanes                          203\n",
              "Other                                   176\n",
              "Parked                                  175\n",
              "Unknown                                 120\n",
              "Reversing                               113\n",
              "Making U Turn                            99\n",
              "Overtaking                               87\n",
              "Pulling Away from Shoulder or Curb       38\n",
              "Merging                                  17\n",
              "Pulling Onto Shoulder or towardCurb      14\n",
              "Disabled                                  4\n",
              "Name: MANOEUVER, dtype: int64"
            ]
          },
          "metadata": {},
          "execution_count": 55
        }
      ]
    },
    {
      "cell_type": "code",
      "source": [
        "KSI['DRIVACT'].unique()"
      ],
      "metadata": {
        "colab": {
          "base_uri": "https://localhost:8080/"
        },
        "id": "UZ8jP2GlSsWC",
        "outputId": "86cef84a-0f7c-40a0-90a5-d87ce11bc455"
      },
      "execution_count": null,
      "outputs": [
        {
          "output_type": "execute_result",
          "data": {
            "text/plain": [
              "array(['Failed to Yield Right of Way', '<Null>',\n",
              "       'Disobeyed Traffic Control', 'Driving Properly', 'Other',\n",
              "       'Lost control', 'Following too Close',\n",
              "       'Speed too Fast For Condition', 'Improper Lane Change',\n",
              "       'Exceeding Speed Limit', 'Improper Turn', 'Improper Passing',\n",
              "       'Wrong Way on One Way Road', 'Speed too Slow'], dtype=object)"
            ]
          },
          "metadata": {},
          "execution_count": 56
        }
      ]
    },
    {
      "cell_type": "code",
      "source": [
        "KSI['DRIVACT'].value_counts()"
      ],
      "metadata": {
        "colab": {
          "base_uri": "https://localhost:8080/"
        },
        "id": "qOL0ykiUStrK",
        "outputId": "95028cd6-b953-48cc-ad76-fed5876fd0f0"
      },
      "execution_count": null,
      "outputs": [
        {
          "output_type": "execute_result",
          "data": {
            "text/plain": [
              "<Null>                          8398\n",
              "Driving Properly                3879\n",
              "Failed to Yield Right of Way    1429\n",
              "Lost control                     874\n",
              "Improper Turn                    521\n",
              "Other                            465\n",
              "Disobeyed Traffic Control        432\n",
              "Following too Close              241\n",
              "Exceeding Speed Limit            211\n",
              "Speed too Fast For Condition     188\n",
              "Improper Lane Change             114\n",
              "Improper Passing                  95\n",
              "Wrong Way on One Way Road          9\n",
              "Speed too Slow                     4\n",
              "Name: DRIVACT, dtype: int64"
            ]
          },
          "metadata": {},
          "execution_count": 57
        }
      ]
    },
    {
      "cell_type": "code",
      "source": [
        "KSI['DRIVCOND'].unique()"
      ],
      "metadata": {
        "colab": {
          "base_uri": "https://localhost:8080/"
        },
        "id": "QCrb387_Stom",
        "outputId": "f6a4ee68-8d4f-496f-a33e-77b1294fbc09"
      },
      "execution_count": null,
      "outputs": [
        {
          "output_type": "execute_result",
          "data": {
            "text/plain": [
              "array(['Unknown', '<Null>', 'Ability Impaired, Alcohol',\n",
              "       'Ability Impaired, Alcohol Over .08', 'Normal',\n",
              "       'Had Been Drinking', 'Other', 'Inattentive',\n",
              "       'Medical or Physical Disability', 'Fatigue',\n",
              "       'Ability Impaired, Drugs'], dtype=object)"
            ]
          },
          "metadata": {},
          "execution_count": 58
        }
      ]
    },
    {
      "cell_type": "code",
      "source": [
        "KSI['DRIVCOND'].value_counts()"
      ],
      "metadata": {
        "colab": {
          "base_uri": "https://localhost:8080/"
        },
        "id": "iehMb2xsSsSc",
        "outputId": "be4140eb-7a88-4269-fdf7-55e839731eba"
      },
      "execution_count": null,
      "outputs": [
        {
          "output_type": "execute_result",
          "data": {
            "text/plain": [
              "<Null>                                8396\n",
              "Normal                                5407\n",
              "Inattentive                           1412\n",
              "Unknown                                988\n",
              "Medical or Physical Disability         166\n",
              "Had Been Drinking                      152\n",
              "Ability Impaired, Alcohol Over .08     120\n",
              "Ability Impaired, Alcohol              111\n",
              "Fatigue                                 48\n",
              "Other                                   43\n",
              "Ability Impaired, Drugs                 17\n",
              "Name: DRIVCOND, dtype: int64"
            ]
          },
          "metadata": {},
          "execution_count": 59
        }
      ]
    },
    {
      "cell_type": "code",
      "source": [
        "KSI['PEDTYPE'].unique()"
      ],
      "metadata": {
        "colab": {
          "base_uri": "https://localhost:8080/"
        },
        "id": "PaBz_HWbSsQL",
        "outputId": "f85b032e-ba3d-4d86-9288-5152d38ff7f9"
      },
      "execution_count": null,
      "outputs": [
        {
          "output_type": "execute_result",
          "data": {
            "text/plain": [
              "array(['<Null>',\n",
              "       'Vehicle turns left while ped crosses with ROW at inter.',\n",
              "       'Pedestrian hit at mid-block',\n",
              "       'Vehicle is going straight thru inter.while ped cross without ROW',\n",
              "       'Pedestrian hit a PXO/ped. Mid-block signal',\n",
              "       'Vehicle is going straight thru inter.while ped cross with ROW',\n",
              "       'Other / Undefined',\n",
              "       'Vehicle turns right while ped crosses without ROW at inter.',\n",
              "       'Vehicle hits the pedestrian walking or running out from between parked vehicles at mid-block',\n",
              "       'Pedestrian hit on sidewalk or shoulder',\n",
              "       'Vehicle turns right while ped crosses with ROW at inter.',\n",
              "       'Pedestrian involved in a collision with transit vehicle anywhere along roadway',\n",
              "       'Unknown',\n",
              "       'Vehicle turns left while ped crosses without ROW at inter.',\n",
              "       'Vehicle is reversing and hits pedestrian',\n",
              "       'Pedestrian hit at private driveway',\n",
              "       'Pedestrian hit at parking lot'], dtype=object)"
            ]
          },
          "metadata": {},
          "execution_count": 60
        }
      ]
    },
    {
      "cell_type": "code",
      "source": [
        "KSI['PEDTYPE'].value_counts()"
      ],
      "metadata": {
        "colab": {
          "base_uri": "https://localhost:8080/"
        },
        "id": "QznljKeDSsME",
        "outputId": "423ac520-703d-4688-d568-5f1b059201f7"
      },
      "execution_count": null,
      "outputs": [
        {
          "output_type": "execute_result",
          "data": {
            "text/plain": [
              "<Null>                                                                                          14074\n",
              "Pedestrian hit at mid-block                                                                       695\n",
              "Vehicle turns left while ped crosses with ROW at inter.                                           550\n",
              "Vehicle is going straight thru inter.while ped cross without ROW                                  482\n",
              "Pedestrian hit on sidewalk or shoulder                                                            208\n",
              "Vehicle is going straight thru inter.while ped cross with ROW                                     162\n",
              "Vehicle turns right while ped crosses with ROW at inter.                                          159\n",
              "Pedestrian involved in a collision with transit vehicle anywhere along roadway                    139\n",
              "Vehicle turns left while ped crosses without ROW at inter.                                         75\n",
              "Other / Undefined                                                                                  75\n",
              "Vehicle is reversing and hits pedestrian                                                           75\n",
              "Pedestrian hit a PXO/ped. Mid-block signal                                                         61\n",
              "Pedestrian hit at private driveway                                                                 38\n",
              "Vehicle hits the pedestrian walking or running out from between parked vehicles at mid-block       26\n",
              "Unknown                                                                                            20\n",
              "Vehicle turns right while ped crosses without ROW at inter.                                        18\n",
              "Pedestrian hit at parking lot                                                                       3\n",
              "Name: PEDTYPE, dtype: int64"
            ]
          },
          "metadata": {},
          "execution_count": 63
        }
      ]
    },
    {
      "cell_type": "code",
      "source": [
        "KSI['PEDACT'].unique()"
      ],
      "metadata": {
        "colab": {
          "base_uri": "https://localhost:8080/"
        },
        "id": "y6f2IbGCTIus",
        "outputId": "e64ca504-1e1c-462d-bb10-202a3cb46497"
      },
      "execution_count": null,
      "outputs": [
        {
          "output_type": "execute_result",
          "data": {
            "text/plain": [
              "array(['<Null>', 'Crossing with right of way',\n",
              "       'Crossing, no Traffic Control', 'Crossing without right of way',\n",
              "       'Crossing, Pedestrian Crossover', 'Running onto Roadway', 'Other',\n",
              "       'Coming From Behind Parked Vehicle', 'On Sidewalk or Shoulder',\n",
              "       'Pushing/Working on Vehicle', 'Walking on Roadway Against Traffic',\n",
              "       'Walking on Roadway with Traffic', 'Person Getting on/off Vehicle',\n",
              "       'Playing or Working on Highway',\n",
              "       'Crossing marked crosswalk without ROW',\n",
              "       'Person Getting on/off School Bus'], dtype=object)"
            ]
          },
          "metadata": {},
          "execution_count": 64
        }
      ]
    },
    {
      "cell_type": "code",
      "source": [
        "KSI['PEDACT'].value_counts()"
      ],
      "metadata": {
        "colab": {
          "base_uri": "https://localhost:8080/"
        },
        "id": "IyCqHBEjTIsy",
        "outputId": "8fecc451-e6a8-4adf-eea0-fbfacb58203a"
      },
      "execution_count": null,
      "outputs": [
        {
          "output_type": "execute_result",
          "data": {
            "text/plain": [
              "<Null>                                   14081\n",
              "Crossing with right of way                 873\n",
              "Crossing, no Traffic Control               647\n",
              "Crossing without right of way              383\n",
              "On Sidewalk or Shoulder                    233\n",
              "Running onto Roadway                       207\n",
              "Other                                      205\n",
              "Crossing, Pedestrian Crossover              58\n",
              "Person Getting on/off Vehicle               36\n",
              "Coming From Behind Parked Vehicle           33\n",
              "Walking on Roadway with Traffic             31\n",
              "Playing or Working on Highway               24\n",
              "Walking on Roadway Against Traffic          20\n",
              "Crossing marked crosswalk without ROW       15\n",
              "Pushing/Working on Vehicle                  12\n",
              "Person Getting on/off School Bus             2\n",
              "Name: PEDACT, dtype: int64"
            ]
          },
          "metadata": {},
          "execution_count": 65
        }
      ]
    },
    {
      "cell_type": "code",
      "source": [
        "KSI['PEDCOND'].unique()"
      ],
      "metadata": {
        "colab": {
          "base_uri": "https://localhost:8080/"
        },
        "id": "QqJVaw5hTIob",
        "outputId": "157284ee-2259-449b-eb73-da7a2f4952fd"
      },
      "execution_count": null,
      "outputs": [
        {
          "output_type": "execute_result",
          "data": {
            "text/plain": [
              "array(['<Null>', 'Unknown', 'Normal', 'Medical or Physical Disability',\n",
              "       'Inattentive', 'Had Been Drinking', 'Other',\n",
              "       'Ability Impaired, Alcohol', 'Ability Impaired, Alcohol Over .80',\n",
              "       'Ability Impaired, Drugs', 'Fatigue'], dtype=object)"
            ]
          },
          "metadata": {},
          "execution_count": 66
        }
      ]
    },
    {
      "cell_type": "code",
      "source": [
        "KSI['PEDCOND'].value_counts()"
      ],
      "metadata": {
        "colab": {
          "base_uri": "https://localhost:8080/"
        },
        "id": "LES6RLctTJ3A",
        "outputId": "aff07745-836e-400e-af87-821dbb3967b8"
      },
      "execution_count": null,
      "outputs": [
        {
          "output_type": "execute_result",
          "data": {
            "text/plain": [
              "<Null>                                14025\n",
              "Normal                                 1597\n",
              "Inattentive                             496\n",
              "Unknown                                 355\n",
              "Had Been Drinking                       205\n",
              "Medical or Physical Disability           66\n",
              "Other                                    56\n",
              "Ability Impaired, Alcohol                38\n",
              "Ability Impaired, Alcohol Over .80       12\n",
              "Ability Impaired, Drugs                   8\n",
              "Fatigue                                   2\n",
              "Name: PEDCOND, dtype: int64"
            ]
          },
          "metadata": {},
          "execution_count": 67
        }
      ]
    },
    {
      "cell_type": "code",
      "source": [
        "KSI['CYCLISTYPE'].unique()"
      ],
      "metadata": {
        "colab": {
          "base_uri": "https://localhost:8080/"
        },
        "id": "MhRAo13fTJ0c",
        "outputId": "6f872e33-db21-4469-b7d0-14aa2ded282b"
      },
      "execution_count": null,
      "outputs": [
        {
          "output_type": "execute_result",
          "data": {
            "text/plain": [
              "array(['<Null>',\n",
              "       'Cyclist and Driver travelling in same direction. One vehicle rear-ended the other.',\n",
              "       'Cyclist and Driver travelling in same direction. One vehicle sideswipes the other.',\n",
              "       'Cyclist struck opened vehicle door',\n",
              "       'Cyclist strikes pedestrian.',\n",
              "       'Cyclist loses control and strikes object (pole, ttc track)',\n",
              "       'Cyclist turns right across motorists path',\n",
              "       'Motorist turned left across cyclists path.',\n",
              "       'Cyclist without ROW rides into path of motorist at inter, lnwy, dwy-Cyclist not turn.',\n",
              "       'Motorist without ROW drives into path of cyclist at inter, lnwy, dwy-Driver not turn.',\n",
              "       'Motorist turning right on green or amber at signalized intersection strikes cyclist.',\n",
              "       'Motorist turns right at non-signal Inter.(stop, yield, no cont.,and dwy) and strikes cyclist.',\n",
              "       'Motorist turning right on red at signalized intersection strikes cyclist.',\n",
              "       'Cyclist turned left across motorists path.',\n",
              "       'Cyclist rode off sidewalk into road at midblock.',\n",
              "       'Cyclist makes u-turn in-front of driver.',\n",
              "       'Insufficient information (to determine cyclist crash type).',\n",
              "       'Motorist reversing struck cyclist.',\n",
              "       'Cyclist struck at PXO(cyclist either travel in same dir. as veh. or ride across xwalk)',\n",
              "       'Motorist loses control and strikes cyclist.',\n",
              "       'Motorist makes u-turn in-front of cyclist.',\n",
              "       'Cyclist strikes a parked vehicle.',\n",
              "       'Cyclist falls off bike - no contact with motorist.'], dtype=object)"
            ]
          },
          "metadata": {},
          "execution_count": 68
        }
      ]
    },
    {
      "cell_type": "code",
      "source": [
        "KSI['CYCLISTYPE'].value_counts()"
      ],
      "metadata": {
        "colab": {
          "base_uri": "https://localhost:8080/"
        },
        "id": "JS2aNY9tTJqm",
        "outputId": "5c6702cb-eebd-446e-8425-b9b82c572550"
      },
      "execution_count": null,
      "outputs": [
        {
          "output_type": "execute_result",
          "data": {
            "text/plain": [
              "<Null>                                                                                           16160\n",
              "Motorist turned left across cyclists path.                                                         119\n",
              "Cyclist without ROW rides into path of motorist at inter, lnwy, dwy-Cyclist not turn.              106\n",
              "Cyclist and Driver travelling in same direction. One vehicle sideswipes the other.                  96\n",
              "Cyclist and Driver travelling in same direction. One vehicle rear-ended the other.                  51\n",
              "Cyclist struck opened vehicle door                                                                  50\n",
              "Motorist without ROW drives into path of cyclist at inter, lnwy, dwy-Driver not turn.               50\n",
              "Motorist turns right at non-signal Inter.(stop, yield, no cont.,and dwy) and strikes cyclist.       41\n",
              "Cyclist turned left across motorists path.                                                          38\n",
              "Motorist turning right on green or amber at signalized intersection strikes cyclist.                33\n",
              "Motorist turning right on red at signalized intersection strikes cyclist.                           26\n",
              "Insufficient information (to determine cyclist crash type).                                         21\n",
              "Cyclist strikes pedestrian.                                                                         15\n",
              "Cyclist loses control and strikes object (pole, ttc track)                                          13\n",
              "Motorist makes u-turn in-front of cyclist.                                                           8\n",
              "Cyclist strikes a parked vehicle.                                                                    8\n",
              "Cyclist turns right across motorists path                                                            5\n",
              "Motorist reversing struck cyclist.                                                                   5\n",
              "Cyclist rode off sidewalk into road at midblock.                                                     4\n",
              "Cyclist falls off bike - no contact with motorist.                                                   4\n",
              "Motorist loses control and strikes cyclist.                                                          3\n",
              "Cyclist makes u-turn in-front of driver.                                                             2\n",
              "Cyclist struck at PXO(cyclist either travel in same dir. as veh. or ride across xwalk)               2\n",
              "Name: CYCLISTYPE, dtype: int64"
            ]
          },
          "metadata": {},
          "execution_count": 69
        }
      ]
    },
    {
      "cell_type": "code",
      "source": [
        "KSI['CYCACT'].unique()"
      ],
      "metadata": {
        "colab": {
          "base_uri": "https://localhost:8080/"
        },
        "id": "fZDqzoWYTJnm",
        "outputId": "f68a51f0-6b3c-4759-9656-39b8e5b8a45e"
      },
      "execution_count": null,
      "outputs": [
        {
          "output_type": "execute_result",
          "data": {
            "text/plain": [
              "array(['<Null>', 'Other', 'Improper Passing', 'Driving Properly',\n",
              "       'Disobeyed Traffic Control', 'Lost control',\n",
              "       'Failed to Yield Right of Way', 'Improper Turn',\n",
              "       'Improper Lane Change', 'Following too Close',\n",
              "       'Speed too Fast For Condition', 'Wrong Way on One Way Road'],\n",
              "      dtype=object)"
            ]
          },
          "metadata": {},
          "execution_count": 70
        }
      ]
    },
    {
      "cell_type": "code",
      "source": [
        "KSI['CYCACT'].value_counts()"
      ],
      "metadata": {
        "colab": {
          "base_uri": "https://localhost:8080/"
        },
        "id": "B_BqBSdjTIlm",
        "outputId": "83c7f181-3d00-4c30-978b-e64ab4361c90"
      },
      "execution_count": null,
      "outputs": [
        {
          "output_type": "execute_result",
          "data": {
            "text/plain": [
              "<Null>                          16153\n",
              "Driving Properly                  385\n",
              "Disobeyed Traffic Control          79\n",
              "Other                              69\n",
              "Failed to Yield Right of Way       59\n",
              "Lost control                       35\n",
              "Improper Turn                      24\n",
              "Improper Lane Change               21\n",
              "Improper Passing                   19\n",
              "Speed too Fast For Condition        8\n",
              "Following too Close                 4\n",
              "Wrong Way on One Way Road           4\n",
              "Name: CYCACT, dtype: int64"
            ]
          },
          "metadata": {},
          "execution_count": 71
        }
      ]
    },
    {
      "cell_type": "code",
      "source": [
        "KSI['CYCCOND'].unique()"
      ],
      "metadata": {
        "colab": {
          "base_uri": "https://localhost:8080/"
        },
        "id": "m9qZwALqTUFl",
        "outputId": "ec52e3ff-7065-45f0-8f25-c87eadf4bf08"
      },
      "execution_count": null,
      "outputs": [
        {
          "output_type": "execute_result",
          "data": {
            "text/plain": [
              "array(['<Null>', 'Inattentive', 'Normal', 'Had Been Drinking', 'Unknown',\n",
              "       'Ability Impaired, Drugs', 'Medical or Physical Disability',\n",
              "       'Ability Impaired, Alcohol Over .80', 'Ability Impaired, Alcohol',\n",
              "       'Other', 'Fatigue'], dtype=object)"
            ]
          },
          "metadata": {},
          "execution_count": 72
        }
      ]
    },
    {
      "cell_type": "code",
      "source": [
        "KSI['CYCCOND'].value_counts()"
      ],
      "metadata": {
        "colab": {
          "base_uri": "https://localhost:8080/"
        },
        "id": "pNce1iy9TUCz",
        "outputId": "4c85c269-045a-415b-f942-afb64f248ea5"
      },
      "execution_count": null,
      "outputs": [
        {
          "output_type": "execute_result",
          "data": {
            "text/plain": [
              "<Null>                                16154\n",
              "Normal                                  488\n",
              "Inattentive                             100\n",
              "Unknown                                  70\n",
              "Had Been Drinking                        27\n",
              "Other                                     9\n",
              "Ability Impaired, Alcohol                 4\n",
              "Medical or Physical Disability            3\n",
              "Ability Impaired, Drugs                   2\n",
              "Fatigue                                   2\n",
              "Ability Impaired, Alcohol Over .80        1\n",
              "Name: CYCCOND, dtype: int64"
            ]
          },
          "metadata": {},
          "execution_count": 73
        }
      ]
    },
    {
      "cell_type": "code",
      "source": [
        "KSI['CYCACT'].unique()"
      ],
      "metadata": {
        "colab": {
          "base_uri": "https://localhost:8080/"
        },
        "id": "wFXWIfaTTUAW",
        "outputId": "fc1d36f4-72f6-454c-f324-3a853804eb29"
      },
      "execution_count": null,
      "outputs": [
        {
          "output_type": "execute_result",
          "data": {
            "text/plain": [
              "array(['<Null>', 'Other', 'Improper Passing', 'Driving Properly',\n",
              "       'Disobeyed Traffic Control', 'Lost control',\n",
              "       'Failed to Yield Right of Way', 'Improper Turn',\n",
              "       'Improper Lane Change', 'Following too Close',\n",
              "       'Speed too Fast For Condition', 'Wrong Way on One Way Road'],\n",
              "      dtype=object)"
            ]
          },
          "metadata": {},
          "execution_count": 74
        }
      ]
    },
    {
      "cell_type": "code",
      "source": [
        "KSI['CYCACT'].value_counts()"
      ],
      "metadata": {
        "colab": {
          "base_uri": "https://localhost:8080/"
        },
        "id": "lpKwmtS0TT-K",
        "outputId": "ab1edd54-2d01-4168-8f73-9d83faf1a526"
      },
      "execution_count": null,
      "outputs": [
        {
          "output_type": "execute_result",
          "data": {
            "text/plain": [
              "<Null>                          16153\n",
              "Driving Properly                  385\n",
              "Disobeyed Traffic Control          79\n",
              "Other                              69\n",
              "Failed to Yield Right of Way       59\n",
              "Lost control                       35\n",
              "Improper Turn                      24\n",
              "Improper Lane Change               21\n",
              "Improper Passing                   19\n",
              "Speed too Fast For Condition        8\n",
              "Following too Close                 4\n",
              "Wrong Way on One Way Road           4\n",
              "Name: CYCACT, dtype: int64"
            ]
          },
          "metadata": {},
          "execution_count": 75
        }
      ]
    },
    {
      "cell_type": "code",
      "source": [
        "KSI['PEDESTRIAN'].unique()"
      ],
      "metadata": {
        "colab": {
          "base_uri": "https://localhost:8080/"
        },
        "id": "ZfSe3ghJTT0m",
        "outputId": "0671d336-6639-48b1-bb00-0f5df705e6d8"
      },
      "execution_count": null,
      "outputs": [
        {
          "output_type": "execute_result",
          "data": {
            "text/plain": [
              "array(['Yes', '<Null>'], dtype=object)"
            ]
          },
          "metadata": {},
          "execution_count": 76
        }
      ]
    },
    {
      "cell_type": "code",
      "source": [
        "KSI['PEDESTRIAN'].value_counts()"
      ],
      "metadata": {
        "colab": {
          "base_uri": "https://localhost:8080/"
        },
        "id": "M8IkUKlPTTw6",
        "outputId": "b3fd0462-bf37-40d3-d6d2-f3d64fed0654"
      },
      "execution_count": null,
      "outputs": [
        {
          "output_type": "execute_result",
          "data": {
            "text/plain": [
              "<Null>    10033\n",
              "Yes        6827\n",
              "Name: PEDESTRIAN, dtype: int64"
            ]
          },
          "metadata": {},
          "execution_count": 77
        }
      ]
    },
    {
      "cell_type": "code",
      "source": [
        "KSI['CYCLIST'].unique()"
      ],
      "metadata": {
        "colab": {
          "base_uri": "https://localhost:8080/"
        },
        "id": "Zn4F58J2TTur",
        "outputId": "077c25c1-e857-447d-e21f-73cc3a960876"
      },
      "execution_count": null,
      "outputs": [
        {
          "output_type": "execute_result",
          "data": {
            "text/plain": [
              "array(['<Null>', 'Yes'], dtype=object)"
            ]
          },
          "metadata": {},
          "execution_count": 78
        }
      ]
    },
    {
      "cell_type": "code",
      "source": [
        "KSI['CYCLIST'].value_counts()"
      ],
      "metadata": {
        "colab": {
          "base_uri": "https://localhost:8080/"
        },
        "id": "AADy1tAeTTqq",
        "outputId": "11b7a0b2-3c38-4133-c0fa-1aee802dd0e1"
      },
      "execution_count": null,
      "outputs": [
        {
          "output_type": "execute_result",
          "data": {
            "text/plain": [
              "<Null>    15081\n",
              "Yes        1779\n",
              "Name: CYCLIST, dtype: int64"
            ]
          },
          "metadata": {},
          "execution_count": 79
        }
      ]
    },
    {
      "cell_type": "code",
      "source": [
        "KSI['AUTOMOBILE'].unique()"
      ],
      "metadata": {
        "colab": {
          "base_uri": "https://localhost:8080/"
        },
        "id": "A-jbS3uiTgbq",
        "outputId": "0dff530d-5c5a-47ba-de9b-f8682a4e0bae"
      },
      "execution_count": null,
      "outputs": [
        {
          "output_type": "execute_result",
          "data": {
            "text/plain": [
              "array(['Yes', '<Null>'], dtype=object)"
            ]
          },
          "metadata": {},
          "execution_count": 80
        }
      ]
    },
    {
      "cell_type": "code",
      "source": [
        "KSI['AUTOMOBILE'].value_counts()"
      ],
      "metadata": {
        "colab": {
          "base_uri": "https://localhost:8080/"
        },
        "id": "r7FUBLUtTgY_",
        "outputId": "fe001874-6a8b-40c0-c01b-b6cee7e79779"
      },
      "execution_count": null,
      "outputs": [
        {
          "output_type": "execute_result",
          "data": {
            "text/plain": [
              "Yes       15308\n",
              "<Null>     1552\n",
              "Name: AUTOMOBILE, dtype: int64"
            ]
          },
          "metadata": {},
          "execution_count": 81
        }
      ]
    },
    {
      "cell_type": "code",
      "source": [
        "KSI['MOTORCYCLE'].unique()"
      ],
      "metadata": {
        "colab": {
          "base_uri": "https://localhost:8080/"
        },
        "id": "BtUwPIc_TgWY",
        "outputId": "f3fe59e9-24bd-436c-d778-e1715a9fa916"
      },
      "execution_count": null,
      "outputs": [
        {
          "output_type": "execute_result",
          "data": {
            "text/plain": [
              "array(['<Null>', 'Yes'], dtype=object)"
            ]
          },
          "metadata": {},
          "execution_count": 82
        }
      ]
    },
    {
      "cell_type": "code",
      "source": [
        "KSI['MOTORCYCLE'].value_counts()"
      ],
      "metadata": {
        "colab": {
          "base_uri": "https://localhost:8080/"
        },
        "id": "mbKreWMZTgTS",
        "outputId": "70caf35c-684c-430d-fd10-025bb1b0aca2"
      },
      "execution_count": null,
      "outputs": [
        {
          "output_type": "execute_result",
          "data": {
            "text/plain": [
              "<Null>    15476\n",
              "Yes        1384\n",
              "Name: MOTORCYCLE, dtype: int64"
            ]
          },
          "metadata": {},
          "execution_count": 83
        }
      ]
    },
    {
      "cell_type": "code",
      "source": [
        "KSI['TRUCK'].unique()"
      ],
      "metadata": {
        "colab": {
          "base_uri": "https://localhost:8080/"
        },
        "id": "lm-VSX-MTgQl",
        "outputId": "befb86d8-4ef8-4c15-ed14-5f20c9cc7300"
      },
      "execution_count": null,
      "outputs": [
        {
          "output_type": "execute_result",
          "data": {
            "text/plain": [
              "array(['<Null>', 'Yes'], dtype=object)"
            ]
          },
          "metadata": {},
          "execution_count": 84
        }
      ]
    },
    {
      "cell_type": "code",
      "source": [
        "KSI['TRUCK'].value_counts()"
      ],
      "metadata": {
        "colab": {
          "base_uri": "https://localhost:8080/"
        },
        "id": "-DGZ1lGLTgOS",
        "outputId": "9ccf4b1e-0d3a-4df0-8354-9ab3c420fc70"
      },
      "execution_count": null,
      "outputs": [
        {
          "output_type": "execute_result",
          "data": {
            "text/plain": [
              "<Null>    15818\n",
              "Yes        1042\n",
              "Name: TRUCK, dtype: int64"
            ]
          },
          "metadata": {},
          "execution_count": 85
        }
      ]
    },
    {
      "cell_type": "code",
      "source": [
        "KSI['TRSN_CITY_VEH'].unique()"
      ],
      "metadata": {
        "colab": {
          "base_uri": "https://localhost:8080/"
        },
        "id": "0gqS0JX_TgId",
        "outputId": "e442a000-5494-41d1-a74b-8bb26d86d2aa"
      },
      "execution_count": null,
      "outputs": [
        {
          "output_type": "execute_result",
          "data": {
            "text/plain": [
              "array(['<Null>', 'Yes'], dtype=object)"
            ]
          },
          "metadata": {},
          "execution_count": 86
        }
      ]
    },
    {
      "cell_type": "code",
      "source": [
        "KSI['TRSN_CITY_VEH'].value_counts()"
      ],
      "metadata": {
        "colab": {
          "base_uri": "https://localhost:8080/"
        },
        "id": "n345eO2pTlVm",
        "outputId": "4d58deb5-deca-42e5-af8a-1db52d361032"
      },
      "execution_count": null,
      "outputs": [
        {
          "output_type": "execute_result",
          "data": {
            "text/plain": [
              "<Null>    15849\n",
              "Yes        1011\n",
              "Name: TRSN_CITY_VEH, dtype: int64"
            ]
          },
          "metadata": {},
          "execution_count": 87
        }
      ]
    },
    {
      "cell_type": "code",
      "source": [
        "KSI['EMERG_VEH'].unique()"
      ],
      "metadata": {
        "colab": {
          "base_uri": "https://localhost:8080/"
        },
        "id": "YQqJziS8T5DB",
        "outputId": "e9651e38-6f3c-4f21-a740-5f8bfeaacf13"
      },
      "execution_count": null,
      "outputs": [
        {
          "output_type": "execute_result",
          "data": {
            "text/plain": [
              "array(['<Null>', 'Yes'], dtype=object)"
            ]
          },
          "metadata": {},
          "execution_count": 88
        }
      ]
    },
    {
      "cell_type": "code",
      "source": [
        "KSI['EMERG_VEH'].value_counts()"
      ],
      "metadata": {
        "colab": {
          "base_uri": "https://localhost:8080/"
        },
        "id": "mCW5hI2qT4-n",
        "outputId": "6dd2ef1d-8580-4acd-8d23-838ecc83d154"
      },
      "execution_count": null,
      "outputs": [
        {
          "output_type": "execute_result",
          "data": {
            "text/plain": [
              "<Null>    16829\n",
              "Yes          31\n",
              "Name: EMERG_VEH, dtype: int64"
            ]
          },
          "metadata": {},
          "execution_count": 89
        }
      ]
    },
    {
      "cell_type": "code",
      "source": [
        "KSI['PASSENGER'].unique()"
      ],
      "metadata": {
        "colab": {
          "base_uri": "https://localhost:8080/"
        },
        "id": "Ou0EJoUZT47I",
        "outputId": "4e54a229-c0e2-40d0-a8e4-28b84627f358"
      },
      "execution_count": null,
      "outputs": [
        {
          "output_type": "execute_result",
          "data": {
            "text/plain": [
              "array(['<Null>', 'Yes'], dtype=object)"
            ]
          },
          "metadata": {},
          "execution_count": 90
        }
      ]
    },
    {
      "cell_type": "code",
      "source": [
        "KSI['PASSENGER'].value_counts()"
      ],
      "metadata": {
        "colab": {
          "base_uri": "https://localhost:8080/"
        },
        "id": "5bYefVPJT41q",
        "outputId": "f6c27738-bb3d-4c52-cc2f-e372c62e7eff"
      },
      "execution_count": null,
      "outputs": [
        {
          "output_type": "execute_result",
          "data": {
            "text/plain": [
              "<Null>    10498\n",
              "Yes        6362\n",
              "Name: PASSENGER, dtype: int64"
            ]
          },
          "metadata": {},
          "execution_count": 91
        }
      ]
    },
    {
      "cell_type": "code",
      "source": [
        "KSI['SPEEDING'].unique()"
      ],
      "metadata": {
        "colab": {
          "base_uri": "https://localhost:8080/"
        },
        "id": "lb6Hmt3uT4vD",
        "outputId": "6e7cfcae-1df3-49e8-8ecd-b297ace0a507"
      },
      "execution_count": null,
      "outputs": [
        {
          "output_type": "execute_result",
          "data": {
            "text/plain": [
              "array(['<Null>', 'Yes'], dtype=object)"
            ]
          },
          "metadata": {},
          "execution_count": 92
        }
      ]
    },
    {
      "cell_type": "code",
      "source": [
        "KSI['SPEEDING'].value_counts()"
      ],
      "metadata": {
        "colab": {
          "base_uri": "https://localhost:8080/"
        },
        "id": "gB6McgqPT4qj",
        "outputId": "a185d582-ce6d-42e2-8225-3474d8dbcac9"
      },
      "execution_count": null,
      "outputs": [
        {
          "output_type": "execute_result",
          "data": {
            "text/plain": [
              "<Null>    14575\n",
              "Yes        2285\n",
              "Name: SPEEDING, dtype: int64"
            ]
          },
          "metadata": {},
          "execution_count": 93
        }
      ]
    },
    {
      "cell_type": "code",
      "source": [
        "KSI['AG_DRIV'].unique()"
      ],
      "metadata": {
        "colab": {
          "base_uri": "https://localhost:8080/"
        },
        "id": "GnvscSpVT4np",
        "outputId": "733542c0-5ab2-429e-b07a-c69ef262346a"
      },
      "execution_count": null,
      "outputs": [
        {
          "output_type": "execute_result",
          "data": {
            "text/plain": [
              "array(['Yes', '<Null>'], dtype=object)"
            ]
          },
          "metadata": {},
          "execution_count": 94
        }
      ]
    },
    {
      "cell_type": "code",
      "source": [
        "KSI['AG_DRIV'].value_counts()"
      ],
      "metadata": {
        "colab": {
          "base_uri": "https://localhost:8080/"
        },
        "id": "IDVnTpJ8T4ks",
        "outputId": "f6f1a89e-34a4-4c56-b017-1d7d12e5b0e6"
      },
      "execution_count": null,
      "outputs": [
        {
          "output_type": "execute_result",
          "data": {
            "text/plain": [
              "Yes       8703\n",
              "<Null>    8157\n",
              "Name: AG_DRIV, dtype: int64"
            ]
          },
          "metadata": {},
          "execution_count": 95
        }
      ]
    },
    {
      "cell_type": "code",
      "source": [
        "KSI['REDLIGHT'].unique()"
      ],
      "metadata": {
        "colab": {
          "base_uri": "https://localhost:8080/"
        },
        "id": "Y5mmHaG9T4hY",
        "outputId": "cf91e847-90ad-4bcf-9153-8966b921dec2"
      },
      "execution_count": null,
      "outputs": [
        {
          "output_type": "execute_result",
          "data": {
            "text/plain": [
              "array(['<Null>', 'Yes'], dtype=object)"
            ]
          },
          "metadata": {},
          "execution_count": 96
        }
      ]
    },
    {
      "cell_type": "code",
      "source": [
        "KSI['REDLIGHT'].value_counts()"
      ],
      "metadata": {
        "colab": {
          "base_uri": "https://localhost:8080/"
        },
        "id": "73CiKtoLT7mG",
        "outputId": "609faa0c-881d-4fbe-92ec-cb68f85b8e8b"
      },
      "execution_count": null,
      "outputs": [
        {
          "output_type": "execute_result",
          "data": {
            "text/plain": [
              "<Null>    15451\n",
              "Yes        1409\n",
              "Name: REDLIGHT, dtype: int64"
            ]
          },
          "metadata": {},
          "execution_count": 97
        }
      ]
    },
    {
      "cell_type": "code",
      "source": [
        "KSI['ALCOHOL'].unique()"
      ],
      "metadata": {
        "colab": {
          "base_uri": "https://localhost:8080/"
        },
        "id": "AT04wG9NUKp1",
        "outputId": "50b297e1-5f0c-4aca-e41d-d4d1e5f4e15b"
      },
      "execution_count": null,
      "outputs": [
        {
          "output_type": "execute_result",
          "data": {
            "text/plain": [
              "array(['<Null>', 'Yes'], dtype=object)"
            ]
          },
          "metadata": {},
          "execution_count": 98
        }
      ]
    },
    {
      "cell_type": "code",
      "source": [
        "KSI['ALCOHOL'].value_counts()"
      ],
      "metadata": {
        "colab": {
          "base_uri": "https://localhost:8080/"
        },
        "id": "FecpoSbeUKjS",
        "outputId": "c9d714c5-a746-4e0c-ce8e-53d5c5ccc00e"
      },
      "execution_count": null,
      "outputs": [
        {
          "output_type": "execute_result",
          "data": {
            "text/plain": [
              "<Null>    16121\n",
              "Yes         739\n",
              "Name: ALCOHOL, dtype: int64"
            ]
          },
          "metadata": {},
          "execution_count": 99
        }
      ]
    },
    {
      "cell_type": "code",
      "source": [
        "KSI['REDLIGHT'].unique()"
      ],
      "metadata": {
        "colab": {
          "base_uri": "https://localhost:8080/"
        },
        "id": "vUhGas-1UKgn",
        "outputId": "2d046d8b-81e5-4a16-9d1d-a24ec76017c2"
      },
      "execution_count": null,
      "outputs": [
        {
          "output_type": "execute_result",
          "data": {
            "text/plain": [
              "array(['<Null>', 'Yes'], dtype=object)"
            ]
          },
          "metadata": {},
          "execution_count": 100
        }
      ]
    },
    {
      "cell_type": "code",
      "source": [
        "KSI['REDLIGHT'].value_counts()"
      ],
      "metadata": {
        "colab": {
          "base_uri": "https://localhost:8080/"
        },
        "id": "8fJ3tkRKUKcG",
        "outputId": "efd95e71-f5e3-4526-a709-7eb1647c40f9"
      },
      "execution_count": null,
      "outputs": [
        {
          "output_type": "execute_result",
          "data": {
            "text/plain": [
              "<Null>    15451\n",
              "Yes        1409\n",
              "Name: REDLIGHT, dtype: int64"
            ]
          },
          "metadata": {},
          "execution_count": 101
        }
      ]
    },
    {
      "cell_type": "code",
      "source": [
        "KSI['DISABILITY'].unique()"
      ],
      "metadata": {
        "colab": {
          "base_uri": "https://localhost:8080/"
        },
        "id": "G4c-zSrBUMGV",
        "outputId": "42b823ea-503e-4a41-819c-c771af57bc03"
      },
      "execution_count": null,
      "outputs": [
        {
          "output_type": "execute_result",
          "data": {
            "text/plain": [
              "array(['<Null>', 'Yes'], dtype=object)"
            ]
          },
          "metadata": {},
          "execution_count": 102
        }
      ]
    },
    {
      "cell_type": "code",
      "source": [
        "KSI['DISABILITY'].value_counts()"
      ],
      "metadata": {
        "colab": {
          "base_uri": "https://localhost:8080/"
        },
        "id": "tQauTkheUMEk",
        "outputId": "528500b9-5dcb-4a3b-e1ed-2156f90c4673"
      },
      "execution_count": null,
      "outputs": [
        {
          "output_type": "execute_result",
          "data": {
            "text/plain": [
              "<Null>    16392\n",
              "Yes         468\n",
              "Name: DISABILITY, dtype: int64"
            ]
          },
          "metadata": {},
          "execution_count": 103
        }
      ]
    },
    {
      "cell_type": "code",
      "source": [
        "KSI['POLICE_DIVISION'].unique()"
      ],
      "metadata": {
        "colab": {
          "base_uri": "https://localhost:8080/"
        },
        "id": "40pt7plqUL_G",
        "outputId": "a2a3f90b-3c16-4040-a48c-aa9910c368ff"
      },
      "execution_count": null,
      "outputs": [
        {
          "output_type": "execute_result",
          "data": {
            "text/plain": [
              "array(['D11', 'D42', 'D41', 'D14', 'D23', 'D51', 'D32', 'D31', 'D43',\n",
              "       'D12', 'D55', 'D13', 'D52', 'D54', 'D33', 'D22', 'D53'],\n",
              "      dtype=object)"
            ]
          },
          "metadata": {},
          "execution_count": 104
        }
      ]
    },
    {
      "cell_type": "code",
      "source": [
        "KSI['POLICE_DIVISION'].value_counts()"
      ],
      "metadata": {
        "colab": {
          "base_uri": "https://localhost:8080/"
        },
        "id": "B0Za7lJvUL44",
        "outputId": "fd04548d-c17f-49e9-f966-59edec94f2ee"
      },
      "execution_count": null,
      "outputs": [
        {
          "output_type": "execute_result",
          "data": {
            "text/plain": [
              "D42    1664\n",
              "D41    1297\n",
              "D22    1202\n",
              "D32    1193\n",
              "D23    1164\n",
              "D14    1163\n",
              "D43    1024\n",
              "D52     947\n",
              "D51     883\n",
              "D31     878\n",
              "D53     877\n",
              "D33     851\n",
              "D55     816\n",
              "D11     809\n",
              "D13     794\n",
              "D12     737\n",
              "D54     561\n",
              "Name: POLICE_DIVISION, dtype: int64"
            ]
          },
          "metadata": {},
          "execution_count": 105
        }
      ]
    },
    {
      "cell_type": "code",
      "source": [
        "KSI['HOOD_ID'].unique()"
      ],
      "metadata": {
        "colab": {
          "base_uri": "https://localhost:8080/"
        },
        "id": "Ord2HfLgUL2O",
        "outputId": "6776c45a-9c97-4679-8ef8-439e6c1b0569"
      },
      "execution_count": null,
      "outputs": [
        {
          "output_type": "execute_result",
          "data": {
            "text/plain": [
              "array([ 88, 131, 138,  81,   6, 116,  73,  93,  95,  51,  27,  91, 137,\n",
              "        30,  29, 111,  70,  92, 115,  77,  44,  42, 101,  76,  32, 139,\n",
              "       128,  10, 126,  40,   9,  99,  16,  87,  98, 106,  26,  78,  35,\n",
              "        53,  62,   4,  39,   1,  75,  96,  24,   8,  71,  63,  94, 129,\n",
              "       102,  60,  50, 110, 119,  38,  47,  18, 136,  17,   2, 107,  11,\n",
              "       127,  84,  56,  89,  45, 125,  66,  54,  59,   5,  85, 132,  12,\n",
              "        83,  57,  86,  21, 135, 104, 120,  33,  43, 100,  64,  48, 109,\n",
              "        14,  34, 117,  22,  80, 123, 114,  58,  20,  61, 108, 103, 122,\n",
              "       112,  65,  82, 130,  52,  28,  55,  41, 124, 140, 118,  90,  79,\n",
              "         7,  31,  37, 105,  46,  36,  68,   3,  23,  13, 113,  72,  67,\n",
              "       121,  19, 133, 134,  69,  25,  49,  97,  15,  74])"
            ]
          },
          "metadata": {},
          "execution_count": 106
        }
      ]
    },
    {
      "cell_type": "code",
      "source": [
        "KSI['HOOD_ID'].value_counts()"
      ],
      "metadata": {
        "colab": {
          "base_uri": "https://localhost:8080/"
        },
        "id": "WLI-Sf4FUN9g",
        "outputId": "57cc1b60-faa4-4bb6-ec83-73bf941618a3"
      },
      "execution_count": null,
      "outputs": [
        {
          "output_type": "execute_result",
          "data": {
            "text/plain": [
              "77     646\n",
              "1      515\n",
              "76     394\n",
              "131    378\n",
              "137    369\n",
              "      ... \n",
              "67      25\n",
              "105     24\n",
              "140     21\n",
              "29      20\n",
              "114     13\n",
              "Name: HOOD_ID, Length: 140, dtype: int64"
            ]
          },
          "metadata": {},
          "execution_count": 107
        }
      ]
    },
    {
      "cell_type": "code",
      "source": [
        "KSI['NEIGHBOURHOOD'].unique()"
      ],
      "metadata": {
        "colab": {
          "base_uri": "https://localhost:8080/"
        },
        "id": "1kmt3qwhUq3k",
        "outputId": "f40d0ad5-66f9-407a-ae21-300e6ac3182b"
      },
      "execution_count": null,
      "outputs": [
        {
          "output_type": "execute_result",
          "data": {
            "text/plain": [
              "array(['High Park North (88)', 'Rouge (131)', 'Eglinton East (138)',\n",
              "       'Trinity-Bellwoods (81)', 'Kingsview Village-The Westway (6)',\n",
              "       'Steeles (116)', 'Moss Park (73)',\n",
              "       'Dovercourt-Wallace Emerson-Junction (93)', 'Annex (95)',\n",
              "       'Willowdale East (51)', 'York University Heights (27)',\n",
              "       'Weston-Pellam Park (91)', 'Woburn (137)',\n",
              "       'Brookhaven-Amesbury (30)', 'Maple Leaf (29)',\n",
              "       'Rockcliffe-Smythe (111)', 'South Riverdale (70)',\n",
              "       'Corso Italia-Davenport (92)', 'Mount Dennis (115)',\n",
              "       'Waterfront Communities-The Island (77)', 'Flemingdon Park (44)',\n",
              "       'Banbury-Don Mills (42)', 'Forest Hill South (101)',\n",
              "       'Bay Street Corridor (76)', 'Englemount-Lawrence (32)',\n",
              "       'Scarborough Village (139)', 'Agincourt South-Malvern West (128)',\n",
              "       'Princess-Rosethorn (10)', 'Dorset Park (126)',\n",
              "       'St.Andrew-Windfields (40)', 'Edenbridge-Humber Valley (9)',\n",
              "       'Mount Pleasant East (99)', 'Stonegate-Queensway (16)',\n",
              "       'High Park-Swansea (87)', 'Rosedale-Moore Park (98)',\n",
              "       'Humewood-Cedarvale (106)', 'Downsview-Roding-CFB (26)',\n",
              "       'Kensington-Chinatown (78)', 'Westminster-Branson (35)',\n",
              "       'Henry Farm (53)', 'East End-Danforth (62)', 'Rexdale-Kipling (4)',\n",
              "       'Bedford Park-Nortown (39)', 'West Humber-Clairville (1)',\n",
              "       'Church-Yonge Corridor (75)', 'Casa Loma (96)', 'Black Creek (24)',\n",
              "       'Humber Heights-Westmount (8)',\n",
              "       'Cabbagetown-South St.James Town (71)', 'The Beaches (63)',\n",
              "       'Wychwood (94)', 'Agincourt North (129)',\n",
              "       'Forest Hill North (102)', 'Woodbine-Lumsden (60)',\n",
              "       'Newtonbrook East (50)', 'Keelesdale-Eglinton West (110)',\n",
              "       'Wexford/Maryvale (119)', 'Lansing-Westgate (38)',\n",
              "       'Don Valley Village (47)', 'New Toronto (18)', 'West Hill (136)',\n",
              "       'Mimico (17)', 'Mount Olive-Silverstone-Jamestown (2)',\n",
              "       'Oakwood Village (107)', 'Eringate-Centennial-West Deane (11)',\n",
              "       'Bendale (127)', 'Little Portugal (84)', 'Leaside-Bennington (56)',\n",
              "       'Runnymede-Bloor West Village (89)', 'Parkwoods-Donalda (45)',\n",
              "       'Ionview (125)', 'Danforth (66)', \"O'Connor-Parkview (54)\",\n",
              "       'Danforth East York (59)', 'Elms-Old Rexdale (5)',\n",
              "       'South Parkdale (85)', 'Malvern (132)', 'Markland Wood (12)',\n",
              "       'Dufferin Grove (83)', 'Broadview North (57)', 'Roncesvalles (86)',\n",
              "       'Humber Summit (21)', 'Morningside (135)',\n",
              "       'Mount Pleasant West (104)', 'Clairlea-Birchmount (120)',\n",
              "       'Clanton Park (33)', 'Victoria Village (43)',\n",
              "       'Yonge-Eglinton (100)', 'Woodbine Corridor (64)',\n",
              "       'Hillcrest Village (48)', 'Caledonia-Fairbank (109)',\n",
              "       'Islington-City Centre West (14)', 'Bathurst Manor (34)',\n",
              "       \"L'Amoreaux (117)\", 'Humbermede (22)',\n",
              "       'Palmerston-Little Italy (80)', 'Cliffcrest (123)',\n",
              "       'Lambton Baby Point (114)', 'Old East York (58)', 'Alderwood (20)',\n",
              "       'Taylor-Massey (61)', 'Briar Hill-Belgravia (108)',\n",
              "       'Lawrence Park South (103)', 'Birchcliffe-Cliffside (122)',\n",
              "       'Beechborough-Greenbrook (112)', 'Greenwood-Coxwell (65)',\n",
              "       'Niagara (82)', 'Milliken (130)', 'Bayview Village (52)',\n",
              "       'Rustic (28)', 'Thorncliffe Park (55)',\n",
              "       'Bridle Path-Sunnybrook-York Mills (41)', 'Kennedy Park (124)',\n",
              "       'Guildwood (140)', \"Tam O'Shanter-Sullivan (118)\",\n",
              "       'Junction Area (90)', 'University (79)',\n",
              "       'Willowridge-Martingrove-Richview (7)', 'Yorkdale-Glen Park (31)',\n",
              "       'Willowdale West (37)', 'Lawrence Park North (105)',\n",
              "       'Pleasant View (46)', 'Newtonbrook West (36)',\n",
              "       'North Riverdale (68)', 'Thistletown-Beaumond Heights (3)',\n",
              "       'Pelmo Park-Humberlea (23)', 'Etobicoke West Mall (13)',\n",
              "       'Weston (113)', 'Regent Park (72)',\n",
              "       'Playter Estates-Danforth (67)', 'Oakridge (121)',\n",
              "       'Long Branch (19)', 'Centennial Scarborough (133)',\n",
              "       'Highland Creek (134)', 'Blake-Jones (69)',\n",
              "       'Glenfield-Jane Heights (25)', 'Bayview Woods-Steeles (49)',\n",
              "       'Yonge-St.Clair (97)', 'Kingsway South (15)',\n",
              "       'North St.James Town (74)'], dtype=object)"
            ]
          },
          "metadata": {},
          "execution_count": 108
        }
      ]
    },
    {
      "cell_type": "code",
      "source": [
        "KSI['NEIGHBOURHOOD'].value_counts()"
      ],
      "metadata": {
        "colab": {
          "base_uri": "https://localhost:8080/"
        },
        "id": "FET0d-GPUqyE",
        "outputId": "1613ec93-5ef2-42cb-81cd-070fb38fd087"
      },
      "execution_count": null,
      "outputs": [
        {
          "output_type": "execute_result",
          "data": {
            "text/plain": [
              "Waterfront Communities-The Island (77)    646\n",
              "West Humber-Clairville (1)                515\n",
              "Bay Street Corridor (76)                  394\n",
              "Rouge (131)                               378\n",
              "Woburn (137)                              369\n",
              "                                         ... \n",
              "Playter Estates-Danforth (67)              25\n",
              "Lawrence Park North (105)                  24\n",
              "Guildwood (140)                            21\n",
              "Maple Leaf (29)                            20\n",
              "Lambton Baby Point (114)                   13\n",
              "Name: NEIGHBOURHOOD, Length: 140, dtype: int64"
            ]
          },
          "metadata": {},
          "execution_count": 109
        }
      ]
    },
    {
      "cell_type": "code",
      "source": [
        "KSI['ObjectId'].unique()"
      ],
      "metadata": {
        "colab": {
          "base_uri": "https://localhost:8080/"
        },
        "id": "6-5bsM0PUqji",
        "outputId": "1aa931fe-307c-45b0-97ed-b2c44290f339"
      },
      "execution_count": null,
      "outputs": [
        {
          "output_type": "execute_result",
          "data": {
            "text/plain": [
              "array([    1,     2,     3, ..., 16858, 16859, 16860])"
            ]
          },
          "metadata": {},
          "execution_count": 110
        }
      ]
    },
    {
      "cell_type": "code",
      "source": [
        "KSI['ObjectId'].value_counts()"
      ],
      "metadata": {
        "colab": {
          "base_uri": "https://localhost:8080/"
        },
        "id": "76lqvpIBUqZn",
        "outputId": "976701ea-2e58-42fb-c196-fb2e10ab69d0"
      },
      "execution_count": null,
      "outputs": [
        {
          "output_type": "execute_result",
          "data": {
            "text/plain": [
              "1        1\n",
              "11231    1\n",
              "11233    1\n",
              "11234    1\n",
              "11235    1\n",
              "        ..\n",
              "5625     1\n",
              "5626     1\n",
              "5627     1\n",
              "5628     1\n",
              "16860    1\n",
              "Name: ObjectId, Length: 16860, dtype: int64"
            ]
          },
          "metadata": {},
          "execution_count": 111
        }
      ]
    },
    {
      "cell_type": "code",
      "source": [
        ""
      ],
      "metadata": {
        "id": "jVv4nCLDTDwi"
      },
      "execution_count": null,
      "outputs": []
    }
  ]
}