{
  "nbformat": 4,
  "nbformat_minor": 0,
  "metadata": {
    "colab": {
      "name": "Toronto Police Services - Traffic_Collisions_(ASR-T-TBL-001).ipynb",
      "provenance": [],
      "collapsed_sections": []
    },
    "kernelspec": {
      "name": "python3",
      "display_name": "Python 3"
    },
    "language_info": {
      "name": "python"
    }
  },
  "cells": [
    {
      "cell_type": "markdown",
      "source": [
        "# Toronto Police Services - Traffic_Collisions_(ASR-T-TBL-001) dataset\n"
      ],
      "metadata": {
        "id": "bxlcWqAyIS3l"
      }
    },
    {
      "cell_type": "markdown",
      "source": [
        "## Import libraries"
      ],
      "metadata": {
        "id": "py2dXDFgIS1H"
      }
    },
    {
      "cell_type": "code",
      "execution_count": 1,
      "metadata": {
        "id": "olRtWEz-IR5e"
      },
      "outputs": [],
      "source": [
        "import warnings\n",
        "import json\n",
        "import sys\n",
        "import csv\n",
        "import os\n",
        "\n",
        "import pandas as pd\n",
        "\n",
        "import matplotlib as mpl\n",
        "import matplotlib.pyplot as plt\n",
        "import seaborn as sns\n",
        "\n",
        "import scipy\n",
        "import numpy as np\n",
        "np.random.seed(1612)"
      ]
    },
    {
      "cell_type": "markdown",
      "source": [
        "## Load Data"
      ],
      "metadata": {
        "id": "VAcBvxXELP32"
      }
    },
    {
      "cell_type": "code",
      "source": [
        "from google.colab import drive\n",
        "drive.mount('/content/drive')"
      ],
      "metadata": {
        "colab": {
          "base_uri": "https://localhost:8080/"
        },
        "id": "f49xTUIyIUty",
        "outputId": "96e0bd3e-1558-4109-87d2-06ff47b955a6"
      },
      "execution_count": 2,
      "outputs": [
        {
          "output_type": "stream",
          "name": "stdout",
          "text": [
            "Mounted at /content/drive\n"
          ]
        }
      ]
    },
    {
      "cell_type": "code",
      "source": [
        "Traffic_Collisions = pd.read_csv('/content/drive/My Drive/Colab Notebooks/SAS Safe Roads - Toronto Police 2022/Traffic_Collisions_(ASR-T-TBL-001).csv') "
      ],
      "metadata": {
        "id": "9OXZAI6ZIZ7K"
      },
      "execution_count": 4,
      "outputs": []
    },
    {
      "cell_type": "code",
      "source": [
        "Traffic_Collisions.head()"
      ],
      "metadata": {
        "colab": {
          "base_uri": "https://localhost:8080/",
          "height": 357
        },
        "id": "DByO3XEWIpPB",
        "outputId": "038368f2-d976-4011-8510-2ab4fa27a4b6"
      },
      "execution_count": 5,
      "outputs": [
        {
          "output_type": "execute_result",
          "data": {
            "text/html": [
              "\n",
              "  <div id=\"df-d4c33823-7435-4658-8acf-2367f5e48857\">\n",
              "    <div class=\"colab-df-container\">\n",
              "      <div>\n",
              "<style scoped>\n",
              "    .dataframe tbody tr th:only-of-type {\n",
              "        vertical-align: middle;\n",
              "    }\n",
              "\n",
              "    .dataframe tbody tr th {\n",
              "        vertical-align: top;\n",
              "    }\n",
              "\n",
              "    .dataframe thead th {\n",
              "        text-align: right;\n",
              "    }\n",
              "</style>\n",
              "<table border=\"1\" class=\"dataframe\">\n",
              "  <thead>\n",
              "    <tr style=\"text-align: right;\">\n",
              "      <th></th>\n",
              "      <th>X</th>\n",
              "      <th>Y</th>\n",
              "      <th>OBJECTID</th>\n",
              "      <th>EventUniqueId</th>\n",
              "      <th>OccurrenceDate</th>\n",
              "      <th>Month</th>\n",
              "      <th>Day_of_Week</th>\n",
              "      <th>Year</th>\n",
              "      <th>Hour</th>\n",
              "      <th>Division</th>\n",
              "      <th>Atom</th>\n",
              "      <th>Neighbourhood</th>\n",
              "      <th>Fatalities</th>\n",
              "      <th>Injury_Collisions</th>\n",
              "      <th>FTR_Collisions</th>\n",
              "      <th>PD_Collisions</th>\n",
              "      <th>Longitude</th>\n",
              "      <th>Latitude</th>\n",
              "      <th>ObjectId2</th>\n",
              "    </tr>\n",
              "  </thead>\n",
              "  <tbody>\n",
              "    <tr>\n",
              "      <th>0</th>\n",
              "      <td>0.0</td>\n",
              "      <td>0.0</td>\n",
              "      <td>1</td>\n",
              "      <td>GO-20141001</td>\n",
              "      <td>2014/02/07 05:00:00+00</td>\n",
              "      <td>February</td>\n",
              "      <td>Friday</td>\n",
              "      <td>2014</td>\n",
              "      <td>16</td>\n",
              "      <td>NSA</td>\n",
              "      <td>NSA</td>\n",
              "      <td>NSA</td>\n",
              "      <td>0</td>\n",
              "      <td>NO</td>\n",
              "      <td>NO</td>\n",
              "      <td>YES</td>\n",
              "      <td>0.0</td>\n",
              "      <td>0.0</td>\n",
              "      <td>1</td>\n",
              "    </tr>\n",
              "    <tr>\n",
              "      <th>1</th>\n",
              "      <td>0.0</td>\n",
              "      <td>0.0</td>\n",
              "      <td>2</td>\n",
              "      <td>GO-20141225593</td>\n",
              "      <td>2014/01/02 05:00:00+00</td>\n",
              "      <td>January</td>\n",
              "      <td>Thursday</td>\n",
              "      <td>2014</td>\n",
              "      <td>3</td>\n",
              "      <td>NSA</td>\n",
              "      <td>NSA</td>\n",
              "      <td>NSA</td>\n",
              "      <td>0</td>\n",
              "      <td>NO</td>\n",
              "      <td>YES</td>\n",
              "      <td>NO</td>\n",
              "      <td>0.0</td>\n",
              "      <td>0.0</td>\n",
              "      <td>2</td>\n",
              "    </tr>\n",
              "    <tr>\n",
              "      <th>2</th>\n",
              "      <td>0.0</td>\n",
              "      <td>0.0</td>\n",
              "      <td>3</td>\n",
              "      <td>GO-20141260499</td>\n",
              "      <td>2014/01/01 05:00:00+00</td>\n",
              "      <td>January</td>\n",
              "      <td>Wednesday</td>\n",
              "      <td>2014</td>\n",
              "      <td>2</td>\n",
              "      <td>NSA</td>\n",
              "      <td>NSA</td>\n",
              "      <td>NSA</td>\n",
              "      <td>0</td>\n",
              "      <td>YES</td>\n",
              "      <td>NO</td>\n",
              "      <td>NO</td>\n",
              "      <td>0.0</td>\n",
              "      <td>0.0</td>\n",
              "      <td>3</td>\n",
              "    </tr>\n",
              "    <tr>\n",
              "      <th>3</th>\n",
              "      <td>0.0</td>\n",
              "      <td>0.0</td>\n",
              "      <td>4</td>\n",
              "      <td>GO-20141260663</td>\n",
              "      <td>2014/01/01 05:00:00+00</td>\n",
              "      <td>January</td>\n",
              "      <td>Wednesday</td>\n",
              "      <td>2014</td>\n",
              "      <td>3</td>\n",
              "      <td>NSA</td>\n",
              "      <td>NSA</td>\n",
              "      <td>NSA</td>\n",
              "      <td>0</td>\n",
              "      <td>NO</td>\n",
              "      <td>NO</td>\n",
              "      <td>YES</td>\n",
              "      <td>0.0</td>\n",
              "      <td>0.0</td>\n",
              "      <td>4</td>\n",
              "    </tr>\n",
              "    <tr>\n",
              "      <th>4</th>\n",
              "      <td>0.0</td>\n",
              "      <td>0.0</td>\n",
              "      <td>5</td>\n",
              "      <td>GO-20141261162</td>\n",
              "      <td>2014/01/01 05:00:00+00</td>\n",
              "      <td>January</td>\n",
              "      <td>Wednesday</td>\n",
              "      <td>2014</td>\n",
              "      <td>5</td>\n",
              "      <td>NSA</td>\n",
              "      <td>NSA</td>\n",
              "      <td>NSA</td>\n",
              "      <td>0</td>\n",
              "      <td>YES</td>\n",
              "      <td>NO</td>\n",
              "      <td>NO</td>\n",
              "      <td>0.0</td>\n",
              "      <td>0.0</td>\n",
              "      <td>5</td>\n",
              "    </tr>\n",
              "  </tbody>\n",
              "</table>\n",
              "</div>\n",
              "      <button class=\"colab-df-convert\" onclick=\"convertToInteractive('df-d4c33823-7435-4658-8acf-2367f5e48857')\"\n",
              "              title=\"Convert this dataframe to an interactive table.\"\n",
              "              style=\"display:none;\">\n",
              "        \n",
              "  <svg xmlns=\"http://www.w3.org/2000/svg\" height=\"24px\"viewBox=\"0 0 24 24\"\n",
              "       width=\"24px\">\n",
              "    <path d=\"M0 0h24v24H0V0z\" fill=\"none\"/>\n",
              "    <path d=\"M18.56 5.44l.94 2.06.94-2.06 2.06-.94-2.06-.94-.94-2.06-.94 2.06-2.06.94zm-11 1L8.5 8.5l.94-2.06 2.06-.94-2.06-.94L8.5 2.5l-.94 2.06-2.06.94zm10 10l.94 2.06.94-2.06 2.06-.94-2.06-.94-.94-2.06-.94 2.06-2.06.94z\"/><path d=\"M17.41 7.96l-1.37-1.37c-.4-.4-.92-.59-1.43-.59-.52 0-1.04.2-1.43.59L10.3 9.45l-7.72 7.72c-.78.78-.78 2.05 0 2.83L4 21.41c.39.39.9.59 1.41.59.51 0 1.02-.2 1.41-.59l7.78-7.78 2.81-2.81c.8-.78.8-2.07 0-2.86zM5.41 20L4 18.59l7.72-7.72 1.47 1.35L5.41 20z\"/>\n",
              "  </svg>\n",
              "      </button>\n",
              "      \n",
              "  <style>\n",
              "    .colab-df-container {\n",
              "      display:flex;\n",
              "      flex-wrap:wrap;\n",
              "      gap: 12px;\n",
              "    }\n",
              "\n",
              "    .colab-df-convert {\n",
              "      background-color: #E8F0FE;\n",
              "      border: none;\n",
              "      border-radius: 50%;\n",
              "      cursor: pointer;\n",
              "      display: none;\n",
              "      fill: #1967D2;\n",
              "      height: 32px;\n",
              "      padding: 0 0 0 0;\n",
              "      width: 32px;\n",
              "    }\n",
              "\n",
              "    .colab-df-convert:hover {\n",
              "      background-color: #E2EBFA;\n",
              "      box-shadow: 0px 1px 2px rgba(60, 64, 67, 0.3), 0px 1px 3px 1px rgba(60, 64, 67, 0.15);\n",
              "      fill: #174EA6;\n",
              "    }\n",
              "\n",
              "    [theme=dark] .colab-df-convert {\n",
              "      background-color: #3B4455;\n",
              "      fill: #D2E3FC;\n",
              "    }\n",
              "\n",
              "    [theme=dark] .colab-df-convert:hover {\n",
              "      background-color: #434B5C;\n",
              "      box-shadow: 0px 1px 3px 1px rgba(0, 0, 0, 0.15);\n",
              "      filter: drop-shadow(0px 1px 2px rgba(0, 0, 0, 0.3));\n",
              "      fill: #FFFFFF;\n",
              "    }\n",
              "  </style>\n",
              "\n",
              "      <script>\n",
              "        const buttonEl =\n",
              "          document.querySelector('#df-d4c33823-7435-4658-8acf-2367f5e48857 button.colab-df-convert');\n",
              "        buttonEl.style.display =\n",
              "          google.colab.kernel.accessAllowed ? 'block' : 'none';\n",
              "\n",
              "        async function convertToInteractive(key) {\n",
              "          const element = document.querySelector('#df-d4c33823-7435-4658-8acf-2367f5e48857');\n",
              "          const dataTable =\n",
              "            await google.colab.kernel.invokeFunction('convertToInteractive',\n",
              "                                                     [key], {});\n",
              "          if (!dataTable) return;\n",
              "\n",
              "          const docLinkHtml = 'Like what you see? Visit the ' +\n",
              "            '<a target=\"_blank\" href=https://colab.research.google.com/notebooks/data_table.ipynb>data table notebook</a>'\n",
              "            + ' to learn more about interactive tables.';\n",
              "          element.innerHTML = '';\n",
              "          dataTable['output_type'] = 'display_data';\n",
              "          await google.colab.output.renderOutput(dataTable, element);\n",
              "          const docLink = document.createElement('div');\n",
              "          docLink.innerHTML = docLinkHtml;\n",
              "          element.appendChild(docLink);\n",
              "        }\n",
              "      </script>\n",
              "    </div>\n",
              "  </div>\n",
              "  "
            ],
            "text/plain": [
              "     X    Y  OBJECTID  ... Longitude Latitude ObjectId2\n",
              "0  0.0  0.0         1  ...       0.0      0.0         1\n",
              "1  0.0  0.0         2  ...       0.0      0.0         2\n",
              "2  0.0  0.0         3  ...       0.0      0.0         3\n",
              "3  0.0  0.0         4  ...       0.0      0.0         4\n",
              "4  0.0  0.0         5  ...       0.0      0.0         5\n",
              "\n",
              "[5 rows x 19 columns]"
            ]
          },
          "metadata": {},
          "execution_count": 5
        }
      ]
    },
    {
      "cell_type": "markdown",
      "source": [
        "## Unique values and Value counts"
      ],
      "metadata": {
        "id": "O5EafJltLSC9"
      }
    },
    {
      "cell_type": "code",
      "source": [
        "Traffic_Collisions['EventUniqueId'].value_counts()"
      ],
      "metadata": {
        "colab": {
          "base_uri": "https://localhost:8080/"
        },
        "id": "1hSmMfDqIs0w",
        "outputId": "7951fd3b-f198-438f-aa26-2598d0ca19da"
      },
      "execution_count": 6,
      "outputs": [
        {
          "output_type": "execute_result",
          "data": {
            "text/plain": [
              "GO-20142712534    2\n",
              "GO-2016164025     2\n",
              "GO-20161741045    2\n",
              "GO-20191704678    2\n",
              "GO-201997665      2\n",
              "                 ..\n",
              "GO-20158011470    1\n",
              "GO-20188057171    1\n",
              "GO-20188058492    1\n",
              "GO-20188069707    1\n",
              "GO-20178020054    1\n",
              "Name: EventUniqueId, Length: 499476, dtype: int64"
            ]
          },
          "metadata": {},
          "execution_count": 6
        }
      ]
    },
    {
      "cell_type": "code",
      "source": [
        "Traffic_Collisions['EventUniqueId'].unique()"
      ],
      "metadata": {
        "colab": {
          "base_uri": "https://localhost:8080/"
        },
        "id": "K_8Ojzm9I0Os",
        "outputId": "9090cf64-62d1-4d3f-e358-bfc17009ab4e"
      },
      "execution_count": 8,
      "outputs": [
        {
          "output_type": "execute_result",
          "data": {
            "text/plain": [
              "array(['GO-20141001', 'GO-20141225593', 'GO-20141260499', ...,\n",
              "       'GO-20178008123', 'GO-20178014940', 'GO-20178020054'], dtype=object)"
            ]
          },
          "metadata": {},
          "execution_count": 8
        }
      ]
    },
    {
      "cell_type": "code",
      "source": [
        "Traffic_Collisions['OccurrenceDate'].value_counts()"
      ],
      "metadata": {
        "colab": {
          "base_uri": "https://localhost:8080/"
        },
        "id": "hawuufrRI2sb",
        "outputId": "3e74523c-9b3d-4083-915f-bb9fe259fe52"
      },
      "execution_count": 9,
      "outputs": [
        {
          "output_type": "execute_result",
          "data": {
            "text/plain": [
              "2019/02/27 05:00:00+00    700\n",
              "2019/11/11 05:00:00+00    534\n",
              "2019/01/28 05:00:00+00    501\n",
              "2015/02/21 05:00:00+00    491\n",
              "2019/01/31 05:00:00+00    457\n",
              "                         ... \n",
              "2020/04/18 04:00:00+00     35\n",
              "2020/03/22 04:00:00+00     33\n",
              "2020/04/26 04:00:00+00     32\n",
              "2020/04/12 04:00:00+00     28\n",
              "2020/04/19 04:00:00+00     27\n",
              "Name: OccurrenceDate, Length: 2738, dtype: int64"
            ]
          },
          "metadata": {},
          "execution_count": 9
        }
      ]
    },
    {
      "cell_type": "code",
      "source": [
        "Traffic_Collisions['OccurrenceDate'].unique()"
      ],
      "metadata": {
        "colab": {
          "base_uri": "https://localhost:8080/"
        },
        "id": "xAwAnVEZI5Hm",
        "outputId": "eb25c6be-8710-4f8d-c9b9-032cd03176a6"
      },
      "execution_count": 10,
      "outputs": [
        {
          "output_type": "execute_result",
          "data": {
            "text/plain": [
              "array(['2014/02/07 05:00:00+00', '2014/01/02 05:00:00+00',\n",
              "       '2014/01/01 05:00:00+00', ..., '2021/06/29 04:00:00+00',\n",
              "       '2021/06/26 04:00:00+00', '2020/04/19 04:00:00+00'], dtype=object)"
            ]
          },
          "metadata": {},
          "execution_count": 10
        }
      ]
    },
    {
      "cell_type": "code",
      "source": [
        "Traffic_Collisions['Month'].value_counts()"
      ],
      "metadata": {
        "colab": {
          "base_uri": "https://localhost:8080/"
        },
        "id": "umDlvov4I5E-",
        "outputId": "f824a2a2-4d97-4850-a1cb-f9ee2a50cf9a"
      },
      "execution_count": 11,
      "outputs": [
        {
          "output_type": "execute_result",
          "data": {
            "text/plain": [
              "January      46206\n",
              "February     44372\n",
              "June         44155\n",
              "November     42981\n",
              "October      42532\n",
              "May          42081\n",
              "December     41722\n",
              "September    40806\n",
              "March        40356\n",
              "July         39548\n",
              "August       38799\n",
              "April        35980\n",
              "Name: Month, dtype: int64"
            ]
          },
          "metadata": {},
          "execution_count": 11
        }
      ]
    },
    {
      "cell_type": "code",
      "source": [
        "Traffic_Collisions['Month'].unique()"
      ],
      "metadata": {
        "colab": {
          "base_uri": "https://localhost:8080/"
        },
        "id": "WaY7TwpwI5DI",
        "outputId": "51176ffc-5dba-450c-fcd4-b3df20c9eb33"
      },
      "execution_count": 12,
      "outputs": [
        {
          "output_type": "execute_result",
          "data": {
            "text/plain": [
              "array(['February', 'January', 'March', 'June', 'July', 'August', 'April',\n",
              "       'May', 'October', 'September', 'December', 'November'],\n",
              "      dtype=object)"
            ]
          },
          "metadata": {},
          "execution_count": 12
        }
      ]
    },
    {
      "cell_type": "code",
      "source": [
        "Traffic_Collisions['Day_of_Week'].value_counts()"
      ],
      "metadata": {
        "colab": {
          "base_uri": "https://localhost:8080/"
        },
        "id": "zJs2B85KI5Au",
        "outputId": "060b3629-9ed0-4de7-e367-2e0da8ad537a"
      },
      "execution_count": 13,
      "outputs": [
        {
          "output_type": "execute_result",
          "data": {
            "text/plain": [
              "Friday       83013\n",
              "Thursday     79674\n",
              "Wednesday    77883\n",
              "Tuesday      76816\n",
              "Monday       68603\n",
              "Saturday     64016\n",
              "Sunday       49533\n",
              "Name: Day_of_Week, dtype: int64"
            ]
          },
          "metadata": {},
          "execution_count": 13
        }
      ]
    },
    {
      "cell_type": "code",
      "source": [
        "Traffic_Collisions['Day_of_Week'].unique()"
      ],
      "metadata": {
        "colab": {
          "base_uri": "https://localhost:8080/"
        },
        "id": "I96kNUe0I49W",
        "outputId": "a98535cb-3fa3-4d3d-8690-4d5369f5851e"
      },
      "execution_count": 14,
      "outputs": [
        {
          "output_type": "execute_result",
          "data": {
            "text/plain": [
              "array(['Friday', 'Thursday', 'Wednesday', 'Saturday', 'Sunday', 'Monday',\n",
              "       'Tuesday'], dtype=object)"
            ]
          },
          "metadata": {},
          "execution_count": 14
        }
      ]
    },
    {
      "cell_type": "code",
      "source": [
        "Traffic_Collisions['Year'].value_counts()"
      ],
      "metadata": {
        "colab": {
          "base_uri": "https://localhost:8080/"
        },
        "id": "Ad1ET8FgI46Z",
        "outputId": "4404fcae-eea6-4e5b-ba0e-8eb73e1e7998"
      },
      "execution_count": 15,
      "outputs": [
        {
          "output_type": "execute_result",
          "data": {
            "text/plain": [
              "2019    82823\n",
              "2018    79247\n",
              "2017    74155\n",
              "2016    69667\n",
              "2015    67268\n",
              "2014    64578\n",
              "2020    44720\n",
              "2021    17080\n",
              "Name: Year, dtype: int64"
            ]
          },
          "metadata": {},
          "execution_count": 15
        }
      ]
    },
    {
      "cell_type": "code",
      "source": [
        "Traffic_Collisions['Year'].unique()"
      ],
      "metadata": {
        "colab": {
          "base_uri": "https://localhost:8080/"
        },
        "id": "8iI1Z1smI43J",
        "outputId": "9312875e-3ea3-4521-96c9-9e8f2cd74a0c"
      },
      "execution_count": 16,
      "outputs": [
        {
          "output_type": "execute_result",
          "data": {
            "text/plain": [
              "array([2014, 2015, 2016, 2017, 2018, 2019, 2020, 2021])"
            ]
          },
          "metadata": {},
          "execution_count": 16
        }
      ]
    },
    {
      "cell_type": "code",
      "source": [
        "Traffic_Collisions['Hour'].value_counts()"
      ],
      "metadata": {
        "colab": {
          "base_uri": "https://localhost:8080/"
        },
        "id": "NHXdI9YaI4mD",
        "outputId": "af98e9d4-bec4-4be1-f7ff-a45d654daa5b"
      },
      "execution_count": 17,
      "outputs": [
        {
          "output_type": "execute_result",
          "data": {
            "text/plain": [
              "17    41831\n",
              "15    41095\n",
              "16    40021\n",
              "18    35010\n",
              "14    34829\n",
              "12    32833\n",
              "13    32563\n",
              "8     30562\n",
              "11    29978\n",
              "9     27196\n",
              "10    25682\n",
              "19    23970\n",
              "7     17286\n",
              "20    16648\n",
              "21    13671\n",
              "6     11047\n",
              "22    10961\n",
              "23     8237\n",
              "0      5789\n",
              "1      4620\n",
              "2      4344\n",
              "5      4140\n",
              "3      4139\n",
              "4      3086\n",
              "Name: Hour, dtype: int64"
            ]
          },
          "metadata": {},
          "execution_count": 17
        }
      ]
    },
    {
      "cell_type": "code",
      "source": [
        "Traffic_Collisions['Hour'].unique()"
      ],
      "metadata": {
        "colab": {
          "base_uri": "https://localhost:8080/"
        },
        "id": "1escgHSjI4i7",
        "outputId": "39e242ea-fa5e-4abf-bb63-8bc92ecb1357"
      },
      "execution_count": 18,
      "outputs": [
        {
          "output_type": "execute_result",
          "data": {
            "text/plain": [
              "array([16,  3,  2,  5,  8,  9, 17, 19, 14, 20,  6,  7, 10, 22,  0,  1,  4,\n",
              "       11, 12, 15, 18, 23, 13, 21])"
            ]
          },
          "metadata": {},
          "execution_count": 18
        }
      ]
    },
    {
      "cell_type": "code",
      "source": [
        "Traffic_Collisions['Division'].value_counts()"
      ],
      "metadata": {
        "colab": {
          "base_uri": "https://localhost:8080/"
        },
        "id": "2i32rN05I4fm",
        "outputId": "fe164201-3126-40dc-92a2-61e89b3bd20f"
      },
      "execution_count": 19,
      "outputs": [
        {
          "output_type": "execute_result",
          "data": {
            "text/plain": [
              "NSA        69997\n",
              "D32        41367\n",
              "D42        40597\n",
              "D33        34070\n",
              "D41        33530\n",
              "D54/D55    30610\n",
              "D53        28306\n",
              "D14        26857\n",
              "D43        26511\n",
              "D22        26449\n",
              "D31        25932\n",
              "D23        24216\n",
              "D52        22370\n",
              "D51        18123\n",
              "D11        17861\n",
              "D12        16851\n",
              "D13        15891\n",
              "Name: Division, dtype: int64"
            ]
          },
          "metadata": {},
          "execution_count": 19
        }
      ]
    },
    {
      "cell_type": "code",
      "source": [
        "Traffic_Collisions['Division'].unique()"
      ],
      "metadata": {
        "colab": {
          "base_uri": "https://localhost:8080/"
        },
        "id": "Y_oKXLpoI4T1",
        "outputId": "882b334d-cefa-47a3-dc46-128c76d916fa"
      },
      "execution_count": 20,
      "outputs": [
        {
          "output_type": "execute_result",
          "data": {
            "text/plain": [
              "array(['NSA', 'D54/D55', 'D43', 'D41', 'D11', 'D31', 'D32', 'D14', 'D53',\n",
              "       'D12', 'D33', 'D42', 'D23', 'D22', 'D52', 'D13', 'D51'],\n",
              "      dtype=object)"
            ]
          },
          "metadata": {},
          "execution_count": 20
        }
      ]
    },
    {
      "cell_type": "code",
      "source": [
        "Traffic_Collisions['Atom'].value_counts()"
      ],
      "metadata": {
        "colab": {
          "base_uri": "https://localhost:8080/"
        },
        "id": "lOm-yVKiI4RJ",
        "outputId": "13591e17-6c6e-4f05-9218-9fc7547c75b2"
      },
      "execution_count": 21,
      "outputs": [
        {
          "output_type": "execute_result",
          "data": {
            "text/plain": [
              "NSA    72718\n",
              "77     16100\n",
              "119    10959\n",
              "1      10700\n",
              "137     9780\n",
              "       ...  \n",
              "140      615\n",
              "69       510\n",
              "60       392\n",
              "114      247\n",
              "531        1\n",
              "Name: Atom, Length: 142, dtype: int64"
            ]
          },
          "metadata": {},
          "execution_count": 21
        }
      ]
    },
    {
      "cell_type": "code",
      "source": [
        "Traffic_Collisions['Atom'].unique()"
      ],
      "metadata": {
        "colab": {
          "base_uri": "https://localhost:8080/"
        },
        "id": "dqo_ZpuDI4ON",
        "outputId": "cedb60e7-fd52-4a85-db67-5345e317f1a7"
      },
      "execution_count": 22,
      "outputs": [
        {
          "output_type": "execute_result",
          "data": {
            "text/plain": [
              "array(['NSA', '40', '531', '25', '27', '31', '48', '119', '76', '134',\n",
              "       '117', '128', '14', '136', '23', '34', '49', '21', '39', '139',\n",
              "       '127', '124', '120', '122', '75', '47', '24', '137', '35', '131',\n",
              "       '133', '123', '88', '1', '103', '45', '105', '140', '135', '132',\n",
              "       '138', '129', '130', '125', '126', '121', '63', '62', '61', '118',\n",
              "       '54', '43', '70', '116', '60', '64', '66', '65', '59', '58', '53',\n",
              "       '44', '42', '46', '69', '55', '68', '67', '77', '57', '73', '41',\n",
              "       '72', '56', '71', '52', '98', '74', '99', '95', '78', '104', '51',\n",
              "       '79', '97', '50', '82', '100', '96', '101', '38', '81', '80', '37',\n",
              "       '94', '102', '36', '93', '106', '85', '84', '83', '86', '32',\n",
              "       '107', '92', '33', '108', '87', '109', '91', '26', '90', '110',\n",
              "       '112', '30', '17', '29', '16', '111', '89', '115', '114', '28',\n",
              "       '15', '18', '113', '9', '8', '19', '20', '10', '22', '7', '6', '5',\n",
              "       '3', '11', '4', '12', '13', '2'], dtype=object)"
            ]
          },
          "metadata": {},
          "execution_count": 22
        }
      ]
    },
    {
      "cell_type": "code",
      "source": [
        "Traffic_Collisions['Neighbourhood'].value_counts()"
      ],
      "metadata": {
        "colab": {
          "base_uri": "https://localhost:8080/"
        },
        "id": "TVV7IR1OI4Lg",
        "outputId": "d1fc477d-0cd9-4e1e-f40f-f005f65c391f"
      },
      "execution_count": 23,
      "outputs": [
        {
          "output_type": "execute_result",
          "data": {
            "text/plain": [
              "NSA                                       72719\n",
              "Waterfront Communities-The Island (77)    16100\n",
              "Wexford/Maryvale (119)                    10959\n",
              "West Humber-Clairville (1)                10700\n",
              "Woburn (137)                               9780\n",
              "                                          ...  \n",
              "Markland Wood (12)                          684\n",
              "Guildwood (140)                             615\n",
              "Blake-Jones (69)                            510\n",
              "Woodbine-Lumsden (60)                       392\n",
              "Lambton Baby Point (114)                    247\n",
              "Name: Neighbourhood, Length: 141, dtype: int64"
            ]
          },
          "metadata": {},
          "execution_count": 23
        }
      ]
    },
    {
      "cell_type": "code",
      "source": [
        "Traffic_Collisions['Neighbourhood'].unique()"
      ],
      "metadata": {
        "colab": {
          "base_uri": "https://localhost:8080/"
        },
        "id": "mQDsOj0XI-m-",
        "outputId": "50183725-fe31-4cdf-a242-8e97216cf7f9"
      },
      "execution_count": 24,
      "outputs": [
        {
          "output_type": "execute_result",
          "data": {
            "text/plain": [
              "array(['NSA', 'St.Andrew-Windfields (40)', 'Glenfield-Jane Heights (25)',\n",
              "       'York University Heights (27)', 'Yorkdale-Glen Park (31)',\n",
              "       'Hillcrest Village (48)', 'Wexford/Maryvale (119)',\n",
              "       'Bay Street Corridor (76)', 'Highland Creek (134)',\n",
              "       'LAmoreaux (117)', 'Agincourt South-Malvern West (128)',\n",
              "       'Islington-City Centre West (14)', 'West Hill (136)',\n",
              "       'Pelmo Park-Humberlea (23)', 'Bathurst Manor (34)',\n",
              "       'Bayview Woods-Steeles (49)', 'Humber Summit (21)',\n",
              "       'Bedford Park-Nortown (39)', 'Scarborough Village (139)',\n",
              "       'Bendale (127)', 'Kennedy Park (124)', 'Clairlea-Birchmount (120)',\n",
              "       'Birchcliffe-Cliffside (122)', 'Church-Yonge Corridor (75)',\n",
              "       'Don Valley Village (47)', 'Black Creek (24)', 'Woburn (137)',\n",
              "       'Westminster-Branson (35)', 'Rouge (131)',\n",
              "       'Centennial Scarborough (133)', 'Cliffcrest (123)',\n",
              "       'High Park North (88)', 'West Humber-Clairville (1)',\n",
              "       'Lawrence Park South (103)', 'Parkwoods-Donalda (45)',\n",
              "       'Lawrence Park North (105)', 'Guildwood (140)',\n",
              "       'Morningside (135)', 'Malvern (132)', 'Eglinton East (138)',\n",
              "       'Agincourt North (129)', 'Milliken (130)', 'Ionview (125)',\n",
              "       'Dorset Park (126)', 'Oakridge (121)', 'The Beaches (63)',\n",
              "       'East End-Danforth (62)', 'Taylor-Massey (61)',\n",
              "       'Tam OShanter-Sullivan (118)', 'OConnor-Parkview (54)',\n",
              "       'Victoria Village (43)', 'South Riverdale (70)', 'Steeles (116)',\n",
              "       'Woodbine-Lumsden (60)', 'Woodbine Corridor (64)', 'Danforth (66)',\n",
              "       'Greenwood-Coxwell (65)', 'Danforth East York (59)',\n",
              "       'Old East York (58)', 'Henry Farm (53)', 'Flemingdon Park (44)',\n",
              "       'Banbury-Don Mills (42)', 'Pleasant View (46)', 'Blake-Jones (69)',\n",
              "       'Thorncliffe Park (55)', 'North Riverdale (68)',\n",
              "       'Playter Estates-Danforth (67)',\n",
              "       'Waterfront Communities-The Island (77)', 'Broadview North (57)',\n",
              "       'Moss Park (73)', 'Bridle Path-Sunnybrook-York Mills (41)',\n",
              "       'Regent Park (72)', 'Leaside-Bennington (56)',\n",
              "       'Cabbagetown-South St.James Town (71)', 'Bayview Village (52)',\n",
              "       'Rosedale-Moore Park (98)', 'North St.James Town (74)',\n",
              "       'Mount Pleasant East (99)', 'Annex (95)',\n",
              "       'Kensington-Chinatown (78)', 'Mount Pleasant West (104)',\n",
              "       'Willowdale East (51)', 'University (79)', 'Yonge-St.Clair (97)',\n",
              "       'Newtonbrook East (50)', 'Niagara (82)', 'Yonge-Eglinton (100)',\n",
              "       'Casa Loma (96)', 'Forest Hill South (101)',\n",
              "       'Lansing-Westgate (38)', 'Trinity-Bellwoods (81)',\n",
              "       'Palmerston-Little Italy (80)', 'Willowdale West (37)',\n",
              "       'Wychwood (94)', 'Forest Hill North (102)',\n",
              "       'Newtonbrook West (36)',\n",
              "       'Dovercourt-Wallace Emerson-Junction (93)',\n",
              "       'Humewood-Cedarvale (106)', 'South Parkdale (85)',\n",
              "       'Little Portugal (84)', 'Dufferin Grove (83)', 'Roncesvalles (86)',\n",
              "       'Englemount-Lawrence (32)', 'Oakwood Village (107)',\n",
              "       'Corso Italia-Davenport (92)', 'Clanton Park (33)',\n",
              "       'Briar Hill-Belgravia (108)', 'High Park-Swansea (87)',\n",
              "       'Caledonia-Fairbank (109)', 'Weston-Pellam Park (91)',\n",
              "       'Downsview-Roding-CFB (26)', 'Junction Area (90)',\n",
              "       'Keelesdale-Eglinton West (110)', 'Beechborough-Greenbrook (112)',\n",
              "       'Brookhaven-Amesbury (30)',\n",
              "       'Mimico (includes Humber Bay Shores) (17)', 'Maple Leaf (29)',\n",
              "       'Stonegate-Queensway (16)', 'Rockcliffe-Smythe (111)',\n",
              "       'Runnymede-Bloor West Village (89)', 'Mount Dennis (115)',\n",
              "       'Lambton Baby Point (114)', 'Rustic (28)', 'Kingsway South (15)',\n",
              "       'New Toronto (18)', 'Weston (113)', 'Edenbridge-Humber Valley (9)',\n",
              "       'Humber Heights-Westmount (8)', 'Long Branch (19)',\n",
              "       'Alderwood (20)', 'Princess-Rosethorn (10)', 'Humbermede (22)',\n",
              "       'Willowridge-Martingrove-Richview (7)',\n",
              "       'Kingsview Village-The Westway (6)', 'Elms-Old Rexdale (5)',\n",
              "       'Thistletown-Beaumond Heights (3)',\n",
              "       'Eringate-Centennial-West Deane (11)', 'Rexdale-Kipling (4)',\n",
              "       'Markland Wood (12)', 'Etobicoke West Mall (13)',\n",
              "       'Mount Olive-Silverstone-Jamestown (2)'], dtype=object)"
            ]
          },
          "metadata": {},
          "execution_count": 24
        }
      ]
    },
    {
      "cell_type": "code",
      "source": [
        "Traffic_Collisions['Fatalities'].value_counts()"
      ],
      "metadata": {
        "colab": {
          "base_uri": "https://localhost:8080/"
        },
        "id": "yNoGqtzzJO9E",
        "outputId": "ea3511ca-5419-4071-a35e-cdfe7f3ca17f"
      },
      "execution_count": 25,
      "outputs": [
        {
          "output_type": "execute_result",
          "data": {
            "text/plain": [
              "0    499103\n",
              "1       432\n",
              "2         2\n",
              "3         1\n",
              "Name: Fatalities, dtype: int64"
            ]
          },
          "metadata": {},
          "execution_count": 25
        }
      ]
    },
    {
      "cell_type": "code",
      "source": [
        "Traffic_Collisions['Fatalities'].unique()"
      ],
      "metadata": {
        "colab": {
          "base_uri": "https://localhost:8080/"
        },
        "id": "VU4IMxQUJO7J",
        "outputId": "b704e517-b20d-4c38-c0c9-2f7a1317cee3"
      },
      "execution_count": 26,
      "outputs": [
        {
          "output_type": "execute_result",
          "data": {
            "text/plain": [
              "array([0, 1, 2, 3])"
            ]
          },
          "metadata": {},
          "execution_count": 26
        }
      ]
    },
    {
      "cell_type": "code",
      "source": [
        "Traffic_Collisions['Injury_Collisions'].value_counts()"
      ],
      "metadata": {
        "colab": {
          "base_uri": "https://localhost:8080/"
        },
        "id": "aMQBEvQGJO3N",
        "outputId": "f076b2bd-0c74-4ac4-dc17-7d500bfe19bb"
      },
      "execution_count": 27,
      "outputs": [
        {
          "output_type": "execute_result",
          "data": {
            "text/plain": [
              "NO     430719\n",
              "YES     68819\n",
              "Name: Injury_Collisions, dtype: int64"
            ]
          },
          "metadata": {},
          "execution_count": 27
        }
      ]
    },
    {
      "cell_type": "code",
      "source": [
        "Traffic_Collisions['Injury_Collisions'].unique()"
      ],
      "metadata": {
        "colab": {
          "base_uri": "https://localhost:8080/"
        },
        "id": "Qz7DzvyNJO0j",
        "outputId": "8e0166ca-8a4a-4fbd-a798-4d4cf7f87556"
      },
      "execution_count": 28,
      "outputs": [
        {
          "output_type": "execute_result",
          "data": {
            "text/plain": [
              "array(['NO', 'YES'], dtype=object)"
            ]
          },
          "metadata": {},
          "execution_count": 28
        }
      ]
    },
    {
      "cell_type": "code",
      "source": [
        "Traffic_Collisions['FTR_Collisions'].value_counts()"
      ],
      "metadata": {
        "colab": {
          "base_uri": "https://localhost:8080/"
        },
        "id": "0ZhZLahwJOx5",
        "outputId": "283d15c4-34a9-49da-80a9-4485348a700d"
      },
      "execution_count": 29,
      "outputs": [
        {
          "output_type": "execute_result",
          "data": {
            "text/plain": [
              "NO     415144\n",
              "YES     84394\n",
              "Name: FTR_Collisions, dtype: int64"
            ]
          },
          "metadata": {},
          "execution_count": 29
        }
      ]
    },
    {
      "cell_type": "code",
      "source": [
        "Traffic_Collisions['FTR_Collisions'].unique()"
      ],
      "metadata": {
        "colab": {
          "base_uri": "https://localhost:8080/"
        },
        "id": "BwY1d0s9JOwQ",
        "outputId": "cb998fe2-9098-45aa-9df4-cbc3707be1ff"
      },
      "execution_count": 30,
      "outputs": [
        {
          "output_type": "execute_result",
          "data": {
            "text/plain": [
              "array(['NO', 'YES'], dtype=object)"
            ]
          },
          "metadata": {},
          "execution_count": 30
        }
      ]
    },
    {
      "cell_type": "code",
      "source": [
        "Traffic_Collisions['PD_Collisions'].value_counts()"
      ],
      "metadata": {
        "colab": {
          "base_uri": "https://localhost:8080/"
        },
        "id": "hi42O-0cJOtf",
        "outputId": "90d8d6e3-ca8c-4963-d8a5-c2e90515e747"
      },
      "execution_count": 31,
      "outputs": [
        {
          "output_type": "execute_result",
          "data": {
            "text/plain": [
              "YES    358376\n",
              "NO     141162\n",
              "Name: PD_Collisions, dtype: int64"
            ]
          },
          "metadata": {},
          "execution_count": 31
        }
      ]
    },
    {
      "cell_type": "code",
      "source": [
        "Traffic_Collisions['PD_Collisions'].unique()"
      ],
      "metadata": {
        "colab": {
          "base_uri": "https://localhost:8080/"
        },
        "id": "QFy4NBhyJOqb",
        "outputId": "497babbc-3e3f-4cb8-fbbd-a2216df63e18"
      },
      "execution_count": 32,
      "outputs": [
        {
          "output_type": "execute_result",
          "data": {
            "text/plain": [
              "array(['YES', 'NO'], dtype=object)"
            ]
          },
          "metadata": {},
          "execution_count": 32
        }
      ]
    },
    {
      "cell_type": "code",
      "source": [
        "Traffic_Collisions['ObjectId2'].value_counts()"
      ],
      "metadata": {
        "colab": {
          "base_uri": "https://localhost:8080/"
        },
        "id": "jnNiS-ehJOnr",
        "outputId": "105981bd-9c6c-40dd-8e19-aee0204ff984"
      },
      "execution_count": 33,
      "outputs": [
        {
          "output_type": "execute_result",
          "data": {
            "text/plain": [
              "1         1\n",
              "333007    1\n",
              "333035    1\n",
              "333034    1\n",
              "333033    1\n",
              "         ..\n",
              "166508    1\n",
              "166507    1\n",
              "166506    1\n",
              "166505    1\n",
              "499538    1\n",
              "Name: ObjectId2, Length: 499538, dtype: int64"
            ]
          },
          "metadata": {},
          "execution_count": 33
        }
      ]
    },
    {
      "cell_type": "code",
      "source": [
        "Traffic_Collisions['ObjectId2'].unique()"
      ],
      "metadata": {
        "colab": {
          "base_uri": "https://localhost:8080/"
        },
        "id": "MxkWR8TPJSCa",
        "outputId": "f907aeed-5fce-4300-9ead-d462c6d3fd04"
      },
      "execution_count": 34,
      "outputs": [
        {
          "output_type": "execute_result",
          "data": {
            "text/plain": [
              "array([     1,      2,      3, ..., 499536, 499537, 499538])"
            ]
          },
          "metadata": {},
          "execution_count": 34
        }
      ]
    }
  ]
}